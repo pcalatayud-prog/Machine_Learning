{
 "cells": [
  {
   "cell_type": "markdown",
   "id": "3f1a7fa6",
   "metadata": {},
   "source": [
    "## Ejemplo con el dataset Groceries\n",
    "#### Master in Data Science - Machine Learning II\n",
    "#### Santander Meteorology Group. Profesor: Mikel N. Legasa (mikel.legasa@unican.es)\n",
    "\n",
    "Dado que en la pasada sesión práctica se ha trabajado con el dataset Groceries, es interesante comprobar la consistencia entre los resultados obtenidos por las reglas de asociación, un método como vimos relativamente sencillo de aprender de los datos, y las redes bayesianas.\n",
    "\n",
    "Para ello, es necesario recuperar los datos de Groceries, contenidos en el paquete arules, y realizar algunas transformaciones para poder trabajar con ellos adecuadamente. Se incluyen todos los pasos en el preproceso de los datos, ya que con frecuencia gran parte del trabajo en minería de datos se corresponderá a tareas de limpieza y preparación de los datos, tediosas a veces, sí, pero necesarias."
   ]
  },
  {
   "cell_type": "code",
   "execution_count": 1,
   "id": "1f9d7f6e",
   "metadata": {},
   "outputs": [
    {
     "name": "stderr",
     "output_type": "stream",
     "text": [
      "Loading required package: Matrix\n",
      "\n",
      "\n",
      "Attaching package: ‘arules’\n",
      "\n",
      "\n",
      "The following objects are masked from ‘package:base’:\n",
      "\n",
      "    abbreviate, write\n",
      "\n",
      "\n",
      "\n",
      "Attaching package: ‘bnlearn’\n",
      "\n",
      "\n",
      "The following object is masked from ‘package:arules’:\n",
      "\n",
      "    discretize\n",
      "\n",
      "\n"
     ]
    }
   ],
   "source": [
    "library(arules)\n",
    "library(bnlearn)"
   ]
  },
  {
   "cell_type": "code",
   "execution_count": 2,
   "id": "fcaa10e7",
   "metadata": {},
   "outputs": [],
   "source": [
    "set.seed(1)\n",
    "data(Groceries)"
   ]
  },
  {
   "cell_type": "markdown",
   "id": "56e6f8dd",
   "metadata": {},
   "source": [
    "A continuación, vamos a crear un conjunto de reglas con el algoritmo a priori. Elegimos por ejemplo un soporte de los datos del 0.1%, y una confianza del 30%, y vemos de entro todo el conjunto de reglas generado, qué regla tiene un mayor lift (recordemos que el lift era una medida de dependencia en términos de probabilidad):"
   ]
  },
  {
   "cell_type": "code",
   "execution_count": 3,
   "id": "6b66b318",
   "metadata": {},
   "outputs": [
    {
     "name": "stdout",
     "output_type": "stream",
     "text": [
      "Apriori\n",
      "\n",
      "Parameter specification:\n",
      " confidence minval smax arem  aval originalSupport maxtime support minlen\n",
      "        0.3    0.1    1 none FALSE            TRUE       5   0.001      1\n",
      " maxlen target  ext\n",
      "     10  rules TRUE\n",
      "\n",
      "Algorithmic control:\n",
      " filter tree heap memopt load sort verbose\n",
      "    0.1 TRUE TRUE  FALSE TRUE    2    TRUE\n",
      "\n",
      "Absolute minimum support count: 9 \n",
      "\n",
      "set item appearances ...[0 item(s)] done [0.00s].\n",
      "set transactions ...[169 item(s), 9835 transaction(s)] done [0.00s].\n",
      "sorting and recoding items ... [157 item(s)] done [0.00s].\n",
      "creating transaction tree ... done [0.00s].\n",
      "checking subsets of size 1 2 3 4 5 6 done [0.01s].\n",
      "writing ... [13770 rule(s)] done [0.00s].\n",
      "creating S4 object  ... done [0.00s].\n"
     ]
    }
   ],
   "source": [
    "rules <- apriori(Groceries,\n",
    "                 parameter = list(support = 0.001, confidence = 0.3))"
   ]
  },
  {
   "cell_type": "code",
   "execution_count": 4,
   "id": "d37ec027",
   "metadata": {},
   "outputs": [
    {
     "name": "stdout",
     "output_type": "stream",
     "text": [
      "    lhs                              rhs                support     confidence\n",
      "[1] {bottled beer,red/blush wine} => {liquor}           0.001931876 0.3958333 \n",
      "[2] {ham,white bread}             => {processed cheese} 0.001931876 0.3800000 \n",
      "[3] {bottled beer,liquor}         => {red/blush wine}   0.001931876 0.4130435 \n",
      "[4] {Instant food products,soda}  => {hamburger meat}   0.001220132 0.6315789 \n",
      "[5] {curd,sugar}                  => {flour}            0.001118454 0.3235294 \n",
      "[6] {sugar,baking powder}         => {flour}            0.001016777 0.3125000 \n",
      "    coverage    lift     count\n",
      "[1] 0.004880529 35.71579 19   \n",
      "[2] 0.005083884 22.92822 19   \n",
      "[3] 0.004677173 21.49356 19   \n",
      "[4] 0.001931876 18.99565 12   \n",
      "[5] 0.003457041 18.60767 11   \n",
      "[6] 0.003253686 17.97332 10   \n"
     ]
    }
   ],
   "source": [
    "inspect(head(sort(rules, by = \"lift\")))"
   ]
  },
  {
   "cell_type": "markdown",
   "id": "7e7b581a",
   "metadata": {},
   "source": [
    "La primera regla de asociación, por ejemplo, nos dice que existe una asociación elevada entre la compra de cerveza embotellada y vino, y la compra de licor. Trabajaremos con redes Bayesianas para verificar si esto es cierto.\n",
    "\n",
    "### Preparación de los datos\n",
    "\n",
    "Recordemos que la matriz de datos se encuentra dentro del elemento @data. Además, el metadato necesario (en este caso los nombres de los diferentes productos de la compra, están dentro de Groceries@itemInfo$labels). El elemento @data es una matriz *sparse*:"
   ]
  },
  {
   "cell_type": "code",
   "execution_count": 5,
   "id": "f81214a8",
   "metadata": {},
   "outputs": [
    {
     "data": {
      "text/html": [
       "'ngCMatrix'"
      ],
      "text/latex": [
       "'ngCMatrix'"
      ],
      "text/markdown": [
       "'ngCMatrix'"
      ],
      "text/plain": [
       "[1] \"ngCMatrix\"\n",
       "attr(,\"package\")\n",
       "[1] \"Matrix\""
      ]
     },
     "metadata": {},
     "output_type": "display_data"
    }
   ],
   "source": [
    "class(Groceries@data)"
   ]
  },
  {
   "cell_type": "markdown",
   "id": "2154571c",
   "metadata": {},
   "source": [
    "Transformamos los datos a una matriz de R:"
   ]
  },
  {
   "cell_type": "code",
   "execution_count": 6,
   "id": "1916734a",
   "metadata": {
    "scrolled": true
   },
   "outputs": [
    {
     "data": {
      "text/html": [
       "<table class=\"dataframe\">\n",
       "<caption>A matrix: 6 × 169 of type lgl</caption>\n",
       "<tbody>\n",
       "\t<tr><td>FALSE</td><td>FALSE</td><td>FALSE</td><td>FALSE</td><td>FALSE</td><td>FALSE</td><td>FALSE</td><td>FALSE</td><td>FALSE</td><td>FALSE</td><td>⋯</td><td>FALSE</td><td>FALSE</td><td>FALSE</td><td>FALSE</td><td>FALSE</td><td>FALSE</td><td>FALSE</td><td>FALSE</td><td>FALSE</td><td>FALSE</td></tr>\n",
       "\t<tr><td>FALSE</td><td>FALSE</td><td>FALSE</td><td>FALSE</td><td>FALSE</td><td>FALSE</td><td>FALSE</td><td>FALSE</td><td>FALSE</td><td>FALSE</td><td>⋯</td><td>FALSE</td><td>FALSE</td><td>FALSE</td><td>FALSE</td><td>FALSE</td><td>FALSE</td><td>FALSE</td><td>FALSE</td><td>FALSE</td><td>FALSE</td></tr>\n",
       "\t<tr><td>FALSE</td><td>FALSE</td><td>FALSE</td><td>FALSE</td><td>FALSE</td><td>FALSE</td><td>FALSE</td><td>FALSE</td><td>FALSE</td><td>FALSE</td><td>⋯</td><td>FALSE</td><td>FALSE</td><td>FALSE</td><td>FALSE</td><td>FALSE</td><td>FALSE</td><td>FALSE</td><td>FALSE</td><td>FALSE</td><td>FALSE</td></tr>\n",
       "\t<tr><td>FALSE</td><td>FALSE</td><td>FALSE</td><td>FALSE</td><td>FALSE</td><td>FALSE</td><td>FALSE</td><td>FALSE</td><td>FALSE</td><td>FALSE</td><td>⋯</td><td>FALSE</td><td>FALSE</td><td>FALSE</td><td>FALSE</td><td>FALSE</td><td>FALSE</td><td>FALSE</td><td>FALSE</td><td>FALSE</td><td>FALSE</td></tr>\n",
       "\t<tr><td>FALSE</td><td>FALSE</td><td>FALSE</td><td>FALSE</td><td>FALSE</td><td>FALSE</td><td>FALSE</td><td>FALSE</td><td>FALSE</td><td>FALSE</td><td>⋯</td><td>FALSE</td><td>FALSE</td><td>FALSE</td><td>FALSE</td><td>FALSE</td><td>FALSE</td><td>FALSE</td><td>FALSE</td><td>FALSE</td><td>FALSE</td></tr>\n",
       "\t<tr><td>FALSE</td><td>FALSE</td><td>FALSE</td><td>FALSE</td><td>FALSE</td><td>FALSE</td><td>FALSE</td><td>FALSE</td><td>FALSE</td><td>FALSE</td><td>⋯</td><td>FALSE</td><td>FALSE</td><td>FALSE</td><td>FALSE</td><td>FALSE</td><td>FALSE</td><td>FALSE</td><td>FALSE</td><td>FALSE</td><td>FALSE</td></tr>\n",
       "</tbody>\n",
       "</table>\n"
      ],
      "text/latex": [
       "A matrix: 6 × 169 of type lgl\n",
       "\\begin{tabular}{lllllllllllllllllllll}\n",
       "\t FALSE & FALSE & FALSE & FALSE & FALSE & FALSE & FALSE & FALSE & FALSE & FALSE & ⋯ & FALSE & FALSE & FALSE & FALSE & FALSE & FALSE & FALSE & FALSE & FALSE & FALSE\\\\\n",
       "\t FALSE & FALSE & FALSE & FALSE & FALSE & FALSE & FALSE & FALSE & FALSE & FALSE & ⋯ & FALSE & FALSE & FALSE & FALSE & FALSE & FALSE & FALSE & FALSE & FALSE & FALSE\\\\\n",
       "\t FALSE & FALSE & FALSE & FALSE & FALSE & FALSE & FALSE & FALSE & FALSE & FALSE & ⋯ & FALSE & FALSE & FALSE & FALSE & FALSE & FALSE & FALSE & FALSE & FALSE & FALSE\\\\\n",
       "\t FALSE & FALSE & FALSE & FALSE & FALSE & FALSE & FALSE & FALSE & FALSE & FALSE & ⋯ & FALSE & FALSE & FALSE & FALSE & FALSE & FALSE & FALSE & FALSE & FALSE & FALSE\\\\\n",
       "\t FALSE & FALSE & FALSE & FALSE & FALSE & FALSE & FALSE & FALSE & FALSE & FALSE & ⋯ & FALSE & FALSE & FALSE & FALSE & FALSE & FALSE & FALSE & FALSE & FALSE & FALSE\\\\\n",
       "\t FALSE & FALSE & FALSE & FALSE & FALSE & FALSE & FALSE & FALSE & FALSE & FALSE & ⋯ & FALSE & FALSE & FALSE & FALSE & FALSE & FALSE & FALSE & FALSE & FALSE & FALSE\\\\\n",
       "\\end{tabular}\n"
      ],
      "text/markdown": [
       "\n",
       "A matrix: 6 × 169 of type lgl\n",
       "\n",
       "| FALSE | FALSE | FALSE | FALSE | FALSE | FALSE | FALSE | FALSE | FALSE | FALSE | ⋯ | FALSE | FALSE | FALSE | FALSE | FALSE | FALSE | FALSE | FALSE | FALSE | FALSE |\n",
       "| FALSE | FALSE | FALSE | FALSE | FALSE | FALSE | FALSE | FALSE | FALSE | FALSE | ⋯ | FALSE | FALSE | FALSE | FALSE | FALSE | FALSE | FALSE | FALSE | FALSE | FALSE |\n",
       "| FALSE | FALSE | FALSE | FALSE | FALSE | FALSE | FALSE | FALSE | FALSE | FALSE | ⋯ | FALSE | FALSE | FALSE | FALSE | FALSE | FALSE | FALSE | FALSE | FALSE | FALSE |\n",
       "| FALSE | FALSE | FALSE | FALSE | FALSE | FALSE | FALSE | FALSE | FALSE | FALSE | ⋯ | FALSE | FALSE | FALSE | FALSE | FALSE | FALSE | FALSE | FALSE | FALSE | FALSE |\n",
       "| FALSE | FALSE | FALSE | FALSE | FALSE | FALSE | FALSE | FALSE | FALSE | FALSE | ⋯ | FALSE | FALSE | FALSE | FALSE | FALSE | FALSE | FALSE | FALSE | FALSE | FALSE |\n",
       "| FALSE | FALSE | FALSE | FALSE | FALSE | FALSE | FALSE | FALSE | FALSE | FALSE | ⋯ | FALSE | FALSE | FALSE | FALSE | FALSE | FALSE | FALSE | FALSE | FALSE | FALSE |\n",
       "\n"
      ],
      "text/plain": [
       "     [,1]  [,2]  [,3]  [,4]  [,5]  [,6]  [,7]  [,8]  [,9]  [,10] [,11] [,12]\n",
       "[1,] FALSE FALSE FALSE FALSE FALSE FALSE FALSE FALSE FALSE FALSE ⋯     FALSE\n",
       "[2,] FALSE FALSE FALSE FALSE FALSE FALSE FALSE FALSE FALSE FALSE ⋯     FALSE\n",
       "[3,] FALSE FALSE FALSE FALSE FALSE FALSE FALSE FALSE FALSE FALSE ⋯     FALSE\n",
       "[4,] FALSE FALSE FALSE FALSE FALSE FALSE FALSE FALSE FALSE FALSE ⋯     FALSE\n",
       "[5,] FALSE FALSE FALSE FALSE FALSE FALSE FALSE FALSE FALSE FALSE ⋯     FALSE\n",
       "[6,] FALSE FALSE FALSE FALSE FALSE FALSE FALSE FALSE FALSE FALSE ⋯     FALSE\n",
       "     [,13] [,14] [,15] [,16] [,17] [,18] [,19] [,20] [,21]\n",
       "[1,] FALSE FALSE FALSE FALSE FALSE FALSE FALSE FALSE FALSE\n",
       "[2,] FALSE FALSE FALSE FALSE FALSE FALSE FALSE FALSE FALSE\n",
       "[3,] FALSE FALSE FALSE FALSE FALSE FALSE FALSE FALSE FALSE\n",
       "[4,] FALSE FALSE FALSE FALSE FALSE FALSE FALSE FALSE FALSE\n",
       "[5,] FALSE FALSE FALSE FALSE FALSE FALSE FALSE FALSE FALSE\n",
       "[6,] FALSE FALSE FALSE FALSE FALSE FALSE FALSE FALSE FALSE"
      ]
     },
     "metadata": {},
     "output_type": "display_data"
    }
   ],
   "source": [
    "b <- t(as.matrix(Groceries@data))\n",
    "product.names <- Groceries@itemInfo$labels\n",
    "head(b)"
   ]
  },
  {
   "cell_type": "markdown",
   "id": "eecd6fc4",
   "metadata": {},
   "source": [
    "El motivo de trabajar con matrices huecas para este tipo de datos, comentado en la pasada sesión de reglas de asociación, es evidente si observamos el tamaño en memoria de la matriz original, y lo comparamos con el de la nueva matriz ordinaria, que es más de 60 veces mayor, conteniendo una gran cantidad de ceros:\n",
    "\n"
   ]
  },
  {
   "cell_type": "code",
   "execution_count": 7,
   "id": "6a28b6c9",
   "metadata": {},
   "outputs": [
    {
     "name": "stdout",
     "output_type": "stream",
     "text": [
      "0.2 Mb\n",
      "6.3 Mb\n"
     ]
    }
   ],
   "source": [
    "print(object.size(Groceries), units = \"Mb\")\n",
    "print(object.size(b), units = \"Mb\")"
   ]
  },
  {
   "cell_type": "markdown",
   "id": "10a6c73c",
   "metadata": {},
   "source": [
    "A continuación, vamos a evitar algunos caracteres especiales y espacios dentro de los nombre de los productos, ya que en general no es buena idea crear un data.frame con este tipo de caracteres en los nombres de las columnas, ya que pueden dar lugar a diversos errores. Utilizaremos la función gsub para reemplazar estos caracteres problemáticos del siguiente modo:"
   ]
  },
  {
   "cell_type": "code",
   "execution_count": 8,
   "id": "5568e688",
   "metadata": {},
   "outputs": [],
   "source": [
    "# Se sustituyen algunos caracteres especiales en las etiquetas que pudieran ser problemáticos, tales como:\n",
    "# Barras\n",
    "product.names <- gsub(pattern = \"/\", replacement = \"_or_\", x = product.names)\n",
    "# Espacios en blanco\n",
    "product.names <- gsub(\" \",\"_\", product.names)\n",
    "# Parentesis\n",
    "product.names <- gsub(\"(\",\"\", product.names, fixed = TRUE)\n",
    "product.names <- gsub(\")\",\"\", product.names, fixed = TRUE)\n",
    "# Puntos\n",
    "product.names <- gsub(\".\",\"\", product.names, fixed = TRUE)\n",
    "colnames(b) <- product.names"
   ]
  },
  {
   "cell_type": "markdown",
   "id": "8e41d4b6",
   "metadata": {},
   "source": [
    "Veamos qué productos contiene el dataset:"
   ]
  },
  {
   "cell_type": "code",
   "execution_count": 9,
   "id": "477cf563",
   "metadata": {
    "scrolled": true
   },
   "outputs": [
    {
     "data": {
      "text/html": [
       "<style>\n",
       ".dl-inline {width: auto; margin:0; padding: 0}\n",
       ".dl-inline>dt, .dl-inline>dd {float: none; width: auto; display: inline-block}\n",
       ".dl-inline>dt::after {content: \":\\0020\"; padding-right: .5ex}\n",
       ".dl-inline>dt:not(:first-of-type) {padding-left: .5ex}\n",
       "</style><dl class=dl-inline><dt>whole_milk</dt><dd>2513</dd><dt>other_vegetables</dt><dd>1903</dd><dt>rolls_or_buns</dt><dd>1809</dd><dt>soda</dt><dd>1715</dd><dt>yogurt</dt><dd>1372</dd><dt>bottled_water</dt><dd>1087</dd><dt>root_vegetables</dt><dd>1072</dd><dt>tropical_fruit</dt><dd>1032</dd><dt>shopping_bags</dt><dd>969</dd><dt>sausage</dt><dd>924</dd><dt>pastry</dt><dd>875</dd><dt>citrus_fruit</dt><dd>814</dd><dt>bottled_beer</dt><dd>792</dd><dt>newspapers</dt><dd>785</dd><dt>canned_beer</dt><dd>764</dd><dt>pip_fruit</dt><dd>744</dd><dt>fruit_or_vegetable_juice</dt><dd>711</dd><dt>whipped_or_sour_cream</dt><dd>705</dd><dt>brown_bread</dt><dd>638</dd><dt>domestic_eggs</dt><dd>624</dd><dt>frankfurter</dt><dd>580</dd><dt>margarine</dt><dd>576</dd><dt>coffee</dt><dd>571</dd><dt>pork</dt><dd>567</dd><dt>butter</dt><dd>545</dd><dt>curd</dt><dd>524</dd><dt>beef</dt><dd>516</dd><dt>napkins</dt><dd>515</dd><dt>chocolate</dt><dd>488</dd><dt>frozen_vegetables</dt><dd>473</dd><dt>chicken</dt><dd>422</dd><dt>white_bread</dt><dd>414</dd><dt>cream_cheese_</dt><dd>390</dd><dt>waffles</dt><dd>378</dd><dt>salty_snack</dt><dd>372</dd><dt>long_life_bakery_product</dt><dd>368</dd><dt>dessert</dt><dd>365</dd><dt>sugar</dt><dd>333</dd><dt>UHT-milk</dt><dd>329</dd><dt>hamburger_meat</dt><dd>327</dd><dt>berries</dt><dd>327</dd><dt>hygiene_articles</dt><dd>324</dd><dt>onions</dt><dd>305</dd><dt>specialty_chocolate</dt><dd>299</dd><dt>candy</dt><dd>294</dd><dt>frozen_meals</dt><dd>279</dd><dt>misc_beverages</dt><dd>279</dd><dt>oil</dt><dd>276</dd><dt>butter_milk</dt><dd>275</dd><dt>specialty_bar</dt><dd>269</dd><dt>ham</dt><dd>256</dd><dt>beverages</dt><dd>256</dd><dt>meat</dt><dd>254</dd><dt>ice_cream</dt><dd>246</dd><dt>sliced_cheese</dt><dd>241</dd><dt>hard_cheese</dt><dd>241</dd><dt>cat_food</dt><dd>229</dd><dt>grapes</dt><dd>220</dd><dt>chewing_gum</dt><dd>207</dd><dt>red_or_blush_wine</dt><dd>189</dd><dt>detergent</dt><dd>189</dd><dt>white_wine</dt><dd>187</dd><dt>pickled_vegetables</dt><dd>176</dd><dt>semi-finished_bread</dt><dd>174</dd><dt>baking_powder</dt><dd>174</dd><dt>dishes</dt><dd>173</dd><dt>flour</dt><dd>171</dd><dt>pot_plants</dt><dd>170</dd><dt>soft_cheese</dt><dd>168</dd><dt>processed_cheese</dt><dd>163</dd><dt>herbs</dt><dd>160</dd><dt>pasta</dt><dd>148</dd><dt>canned_fish</dt><dd>148</dd><dt>seasonal_products</dt><dd>140</dd><dt>cake_bar</dt><dd>130</dd><dt>packaged_fruit_or_vegetables</dt><dd>128</dd><dt>mustard</dt><dd>118</dd><dt>frozen_fish</dt><dd>115</dd><dt>cling_film_or_bags</dt><dd>112</dd><dt>spread_cheese</dt><dd>110</dd><dt>liquor</dt><dd>109</dd><dt>frozen_dessert</dt><dd>106</dd><dt>salt</dt><dd>106</dd><dt>canned_vegetables</dt><dd>106</dd><dt>dish_cleaner</dt><dd>103</dd><dt>flower_seeds</dt><dd>102</dd><dt>condensed_milk</dt><dd>101</dd><dt>roll_products_</dt><dd>101</dd><dt>pet_care</dt><dd>93</dd><dt>photo_or_film</dt><dd>91</dd><dt>mayonnaise</dt><dd>90</dd><dt>sweet_spreads</dt><dd>89</dd><dt>chocolate_marshmallow</dt><dd>89</dd><dt>candles</dt><dd>88</dd><dt>specialty_cheese</dt><dd>84</dd><dt>dog_food</dt><dd>84</dd><dt>frozen_potato_products</dt><dd>83</dd><dt>house_keeping_products</dt><dd>82</dd><dt>turkey</dt><dd>80</dd><dt>Instant_food_products</dt><dd>79</dd><dt>liquor_appetizer</dt><dd>78</dd><dt>rice</dt><dd>75</dd><dt>instant_coffee</dt><dd>73</dd><dt>popcorn</dt><dd>71</dd><dt>zwieback</dt><dd>68</dd><dt>soups</dt><dd>67</dd><dt>finished_products</dt><dd>64</dd><dt>vinegar</dt><dd>64</dd><dt>female_sanitary_products</dt><dd>60</dd><dt>kitchen_towels</dt><dd>59</dd><dt>dental_care</dt><dd>57</dd><dt>cereals</dt><dd>56</dd><dt>sparkling_wine</dt><dd>55</dd><dt>sauces</dt><dd>54</dd><dt>softener</dt><dd>54</dd><dt>jam</dt><dd>53</dd><dt>spices</dt><dd>51</dd><dt>liver_loaf</dt><dd>50</dd><dt>curd_cheese</dt><dd>50</dd><dt>cleaner</dt><dd>50</dd><dt>male_cosmetics</dt><dd>45</dd><dt>rum</dt><dd>44</dd><dt>ketchup</dt><dd>42</dd><dt>meat_spreads</dt><dd>42</dd><dt>brandy</dt><dd>41</dd><dt>light_bulbs</dt><dd>41</dd><dt>tea</dt><dd>38</dd><dt>specialty_fat</dt><dd>36</dd><dt>abrasive_cleaner</dt><dd>35</dd><dt>skin_care</dt><dd>35</dd><dt>nuts_or_prunes</dt><dd>33</dd><dt>artif_sweetener</dt><dd>32</dd><dt>canned_fruit</dt><dd>32</dd><dt>syrup</dt><dd>32</dd><dt>nut_snack</dt><dd>31</dd><dt>snack_products</dt><dd>30</dd><dt>fish</dt><dd>29</dd><dt>potato_products</dt><dd>28</dd><dt>bathroom_cleaner</dt><dd>27</dd><dt>cookware</dt><dd>27</dd><dt>soap</dt><dd>26</dd><dt>cooking_chocolate</dt><dd>25</dd><dt>tidbits</dt><dd>23</dd><dt>pudding_powder</dt><dd>23</dd><dt>organic_sausage</dt><dd>22</dd><dt>cocoa_drinks</dt><dd>22</dd><dt>prosecco</dt><dd>20</dd><dt>flower_soil_or_fertilizer</dt><dd>19</dd><dt>ready_soups</dt><dd>18</dd><dt>specialty_vegetables</dt><dd>17</dd><dt>organic_products</dt><dd>16</dd><dt>honey</dt><dd>15</dd><dt>decalcifier</dt><dd>15</dd><dt>cream</dt><dd>13</dd><dt>frozen_fruits</dt><dd>12</dd><dt>hair_spray</dt><dd>11</dd><dt>rubbing_alcohol</dt><dd>10</dd><dt>liqueur</dt><dd>9</dd><dt>salad_dressing</dt><dd>8</dd><dt>whisky</dt><dd>8</dd><dt>make_up_remover</dt><dd>8</dd><dt>toilet_cleaner</dt><dd>7</dd><dt>frozen_chicken</dt><dd>6</dd><dt>baby_cosmetics</dt><dd>6</dd><dt>kitchen_utensil</dt><dd>4</dd><dt>bags</dt><dd>4</dd><dt>preservation_products</dt><dd>2</dd><dt>baby_food</dt><dd>1</dd><dt>sound_storage_medium</dt><dd>1</dd></dl>\n"
      ],
      "text/latex": [
       "\\begin{description*}\n",
       "\\item[whole\\textbackslash{}\\_milk] 2513\n",
       "\\item[other\\textbackslash{}\\_vegetables] 1903\n",
       "\\item[rolls\\textbackslash{}\\_or\\textbackslash{}\\_buns] 1809\n",
       "\\item[soda] 1715\n",
       "\\item[yogurt] 1372\n",
       "\\item[bottled\\textbackslash{}\\_water] 1087\n",
       "\\item[root\\textbackslash{}\\_vegetables] 1072\n",
       "\\item[tropical\\textbackslash{}\\_fruit] 1032\n",
       "\\item[shopping\\textbackslash{}\\_bags] 969\n",
       "\\item[sausage] 924\n",
       "\\item[pastry] 875\n",
       "\\item[citrus\\textbackslash{}\\_fruit] 814\n",
       "\\item[bottled\\textbackslash{}\\_beer] 792\n",
       "\\item[newspapers] 785\n",
       "\\item[canned\\textbackslash{}\\_beer] 764\n",
       "\\item[pip\\textbackslash{}\\_fruit] 744\n",
       "\\item[fruit\\textbackslash{}\\_or\\textbackslash{}\\_vegetable\\textbackslash{}\\_juice] 711\n",
       "\\item[whipped\\textbackslash{}\\_or\\textbackslash{}\\_sour\\textbackslash{}\\_cream] 705\n",
       "\\item[brown\\textbackslash{}\\_bread] 638\n",
       "\\item[domestic\\textbackslash{}\\_eggs] 624\n",
       "\\item[frankfurter] 580\n",
       "\\item[margarine] 576\n",
       "\\item[coffee] 571\n",
       "\\item[pork] 567\n",
       "\\item[butter] 545\n",
       "\\item[curd] 524\n",
       "\\item[beef] 516\n",
       "\\item[napkins] 515\n",
       "\\item[chocolate] 488\n",
       "\\item[frozen\\textbackslash{}\\_vegetables] 473\n",
       "\\item[chicken] 422\n",
       "\\item[white\\textbackslash{}\\_bread] 414\n",
       "\\item[cream\\textbackslash{}\\_cheese\\textbackslash{}\\_] 390\n",
       "\\item[waffles] 378\n",
       "\\item[salty\\textbackslash{}\\_snack] 372\n",
       "\\item[long\\textbackslash{}\\_life\\textbackslash{}\\_bakery\\textbackslash{}\\_product] 368\n",
       "\\item[dessert] 365\n",
       "\\item[sugar] 333\n",
       "\\item[UHT-milk] 329\n",
       "\\item[hamburger\\textbackslash{}\\_meat] 327\n",
       "\\item[berries] 327\n",
       "\\item[hygiene\\textbackslash{}\\_articles] 324\n",
       "\\item[onions] 305\n",
       "\\item[specialty\\textbackslash{}\\_chocolate] 299\n",
       "\\item[candy] 294\n",
       "\\item[frozen\\textbackslash{}\\_meals] 279\n",
       "\\item[misc\\textbackslash{}\\_beverages] 279\n",
       "\\item[oil] 276\n",
       "\\item[butter\\textbackslash{}\\_milk] 275\n",
       "\\item[specialty\\textbackslash{}\\_bar] 269\n",
       "\\item[ham] 256\n",
       "\\item[beverages] 256\n",
       "\\item[meat] 254\n",
       "\\item[ice\\textbackslash{}\\_cream] 246\n",
       "\\item[sliced\\textbackslash{}\\_cheese] 241\n",
       "\\item[hard\\textbackslash{}\\_cheese] 241\n",
       "\\item[cat\\textbackslash{}\\_food] 229\n",
       "\\item[grapes] 220\n",
       "\\item[chewing\\textbackslash{}\\_gum] 207\n",
       "\\item[red\\textbackslash{}\\_or\\textbackslash{}\\_blush\\textbackslash{}\\_wine] 189\n",
       "\\item[detergent] 189\n",
       "\\item[white\\textbackslash{}\\_wine] 187\n",
       "\\item[pickled\\textbackslash{}\\_vegetables] 176\n",
       "\\item[semi-finished\\textbackslash{}\\_bread] 174\n",
       "\\item[baking\\textbackslash{}\\_powder] 174\n",
       "\\item[dishes] 173\n",
       "\\item[flour] 171\n",
       "\\item[pot\\textbackslash{}\\_plants] 170\n",
       "\\item[soft\\textbackslash{}\\_cheese] 168\n",
       "\\item[processed\\textbackslash{}\\_cheese] 163\n",
       "\\item[herbs] 160\n",
       "\\item[pasta] 148\n",
       "\\item[canned\\textbackslash{}\\_fish] 148\n",
       "\\item[seasonal\\textbackslash{}\\_products] 140\n",
       "\\item[cake\\textbackslash{}\\_bar] 130\n",
       "\\item[packaged\\textbackslash{}\\_fruit\\textbackslash{}\\_or\\textbackslash{}\\_vegetables] 128\n",
       "\\item[mustard] 118\n",
       "\\item[frozen\\textbackslash{}\\_fish] 115\n",
       "\\item[cling\\textbackslash{}\\_film\\textbackslash{}\\_or\\textbackslash{}\\_bags] 112\n",
       "\\item[spread\\textbackslash{}\\_cheese] 110\n",
       "\\item[liquor] 109\n",
       "\\item[frozen\\textbackslash{}\\_dessert] 106\n",
       "\\item[salt] 106\n",
       "\\item[canned\\textbackslash{}\\_vegetables] 106\n",
       "\\item[dish\\textbackslash{}\\_cleaner] 103\n",
       "\\item[flower\\textbackslash{}\\_seeds] 102\n",
       "\\item[condensed\\textbackslash{}\\_milk] 101\n",
       "\\item[roll\\textbackslash{}\\_products\\textbackslash{}\\_] 101\n",
       "\\item[pet\\textbackslash{}\\_care] 93\n",
       "\\item[photo\\textbackslash{}\\_or\\textbackslash{}\\_film] 91\n",
       "\\item[mayonnaise] 90\n",
       "\\item[sweet\\textbackslash{}\\_spreads] 89\n",
       "\\item[chocolate\\textbackslash{}\\_marshmallow] 89\n",
       "\\item[candles] 88\n",
       "\\item[specialty\\textbackslash{}\\_cheese] 84\n",
       "\\item[dog\\textbackslash{}\\_food] 84\n",
       "\\item[frozen\\textbackslash{}\\_potato\\textbackslash{}\\_products] 83\n",
       "\\item[house\\textbackslash{}\\_keeping\\textbackslash{}\\_products] 82\n",
       "\\item[turkey] 80\n",
       "\\item[Instant\\textbackslash{}\\_food\\textbackslash{}\\_products] 79\n",
       "\\item[liquor\\textbackslash{}\\_appetizer] 78\n",
       "\\item[rice] 75\n",
       "\\item[instant\\textbackslash{}\\_coffee] 73\n",
       "\\item[popcorn] 71\n",
       "\\item[zwieback] 68\n",
       "\\item[soups] 67\n",
       "\\item[finished\\textbackslash{}\\_products] 64\n",
       "\\item[vinegar] 64\n",
       "\\item[female\\textbackslash{}\\_sanitary\\textbackslash{}\\_products] 60\n",
       "\\item[kitchen\\textbackslash{}\\_towels] 59\n",
       "\\item[dental\\textbackslash{}\\_care] 57\n",
       "\\item[cereals] 56\n",
       "\\item[sparkling\\textbackslash{}\\_wine] 55\n",
       "\\item[sauces] 54\n",
       "\\item[softener] 54\n",
       "\\item[jam] 53\n",
       "\\item[spices] 51\n",
       "\\item[liver\\textbackslash{}\\_loaf] 50\n",
       "\\item[curd\\textbackslash{}\\_cheese] 50\n",
       "\\item[cleaner] 50\n",
       "\\item[male\\textbackslash{}\\_cosmetics] 45\n",
       "\\item[rum] 44\n",
       "\\item[ketchup] 42\n",
       "\\item[meat\\textbackslash{}\\_spreads] 42\n",
       "\\item[brandy] 41\n",
       "\\item[light\\textbackslash{}\\_bulbs] 41\n",
       "\\item[tea] 38\n",
       "\\item[specialty\\textbackslash{}\\_fat] 36\n",
       "\\item[abrasive\\textbackslash{}\\_cleaner] 35\n",
       "\\item[skin\\textbackslash{}\\_care] 35\n",
       "\\item[nuts\\textbackslash{}\\_or\\textbackslash{}\\_prunes] 33\n",
       "\\item[artif\\textbackslash{}\\_sweetener] 32\n",
       "\\item[canned\\textbackslash{}\\_fruit] 32\n",
       "\\item[syrup] 32\n",
       "\\item[nut\\textbackslash{}\\_snack] 31\n",
       "\\item[snack\\textbackslash{}\\_products] 30\n",
       "\\item[fish] 29\n",
       "\\item[potato\\textbackslash{}\\_products] 28\n",
       "\\item[bathroom\\textbackslash{}\\_cleaner] 27\n",
       "\\item[cookware] 27\n",
       "\\item[soap] 26\n",
       "\\item[cooking\\textbackslash{}\\_chocolate] 25\n",
       "\\item[tidbits] 23\n",
       "\\item[pudding\\textbackslash{}\\_powder] 23\n",
       "\\item[organic\\textbackslash{}\\_sausage] 22\n",
       "\\item[cocoa\\textbackslash{}\\_drinks] 22\n",
       "\\item[prosecco] 20\n",
       "\\item[flower\\textbackslash{}\\_soil\\textbackslash{}\\_or\\textbackslash{}\\_fertilizer] 19\n",
       "\\item[ready\\textbackslash{}\\_soups] 18\n",
       "\\item[specialty\\textbackslash{}\\_vegetables] 17\n",
       "\\item[organic\\textbackslash{}\\_products] 16\n",
       "\\item[honey] 15\n",
       "\\item[decalcifier] 15\n",
       "\\item[cream] 13\n",
       "\\item[frozen\\textbackslash{}\\_fruits] 12\n",
       "\\item[hair\\textbackslash{}\\_spray] 11\n",
       "\\item[rubbing\\textbackslash{}\\_alcohol] 10\n",
       "\\item[liqueur] 9\n",
       "\\item[salad\\textbackslash{}\\_dressing] 8\n",
       "\\item[whisky] 8\n",
       "\\item[make\\textbackslash{}\\_up\\textbackslash{}\\_remover] 8\n",
       "\\item[toilet\\textbackslash{}\\_cleaner] 7\n",
       "\\item[frozen\\textbackslash{}\\_chicken] 6\n",
       "\\item[baby\\textbackslash{}\\_cosmetics] 6\n",
       "\\item[kitchen\\textbackslash{}\\_utensil] 4\n",
       "\\item[bags] 4\n",
       "\\item[preservation\\textbackslash{}\\_products] 2\n",
       "\\item[baby\\textbackslash{}\\_food] 1\n",
       "\\item[sound\\textbackslash{}\\_storage\\textbackslash{}\\_medium] 1\n",
       "\\end{description*}\n"
      ],
      "text/markdown": [
       "whole_milk\n",
       ":   2513other_vegetables\n",
       ":   1903rolls_or_buns\n",
       ":   1809soda\n",
       ":   1715yogurt\n",
       ":   1372bottled_water\n",
       ":   1087root_vegetables\n",
       ":   1072tropical_fruit\n",
       ":   1032shopping_bags\n",
       ":   969sausage\n",
       ":   924pastry\n",
       ":   875citrus_fruit\n",
       ":   814bottled_beer\n",
       ":   792newspapers\n",
       ":   785canned_beer\n",
       ":   764pip_fruit\n",
       ":   744fruit_or_vegetable_juice\n",
       ":   711whipped_or_sour_cream\n",
       ":   705brown_bread\n",
       ":   638domestic_eggs\n",
       ":   624frankfurter\n",
       ":   580margarine\n",
       ":   576coffee\n",
       ":   571pork\n",
       ":   567butter\n",
       ":   545curd\n",
       ":   524beef\n",
       ":   516napkins\n",
       ":   515chocolate\n",
       ":   488frozen_vegetables\n",
       ":   473chicken\n",
       ":   422white_bread\n",
       ":   414cream_cheese_\n",
       ":   390waffles\n",
       ":   378salty_snack\n",
       ":   372long_life_bakery_product\n",
       ":   368dessert\n",
       ":   365sugar\n",
       ":   333UHT-milk\n",
       ":   329hamburger_meat\n",
       ":   327berries\n",
       ":   327hygiene_articles\n",
       ":   324onions\n",
       ":   305specialty_chocolate\n",
       ":   299candy\n",
       ":   294frozen_meals\n",
       ":   279misc_beverages\n",
       ":   279oil\n",
       ":   276butter_milk\n",
       ":   275specialty_bar\n",
       ":   269ham\n",
       ":   256beverages\n",
       ":   256meat\n",
       ":   254ice_cream\n",
       ":   246sliced_cheese\n",
       ":   241hard_cheese\n",
       ":   241cat_food\n",
       ":   229grapes\n",
       ":   220chewing_gum\n",
       ":   207red_or_blush_wine\n",
       ":   189detergent\n",
       ":   189white_wine\n",
       ":   187pickled_vegetables\n",
       ":   176semi-finished_bread\n",
       ":   174baking_powder\n",
       ":   174dishes\n",
       ":   173flour\n",
       ":   171pot_plants\n",
       ":   170soft_cheese\n",
       ":   168processed_cheese\n",
       ":   163herbs\n",
       ":   160pasta\n",
       ":   148canned_fish\n",
       ":   148seasonal_products\n",
       ":   140cake_bar\n",
       ":   130packaged_fruit_or_vegetables\n",
       ":   128mustard\n",
       ":   118frozen_fish\n",
       ":   115cling_film_or_bags\n",
       ":   112spread_cheese\n",
       ":   110liquor\n",
       ":   109frozen_dessert\n",
       ":   106salt\n",
       ":   106canned_vegetables\n",
       ":   106dish_cleaner\n",
       ":   103flower_seeds\n",
       ":   102condensed_milk\n",
       ":   101roll_products_\n",
       ":   101pet_care\n",
       ":   93photo_or_film\n",
       ":   91mayonnaise\n",
       ":   90sweet_spreads\n",
       ":   89chocolate_marshmallow\n",
       ":   89candles\n",
       ":   88specialty_cheese\n",
       ":   84dog_food\n",
       ":   84frozen_potato_products\n",
       ":   83house_keeping_products\n",
       ":   82turkey\n",
       ":   80Instant_food_products\n",
       ":   79liquor_appetizer\n",
       ":   78rice\n",
       ":   75instant_coffee\n",
       ":   73popcorn\n",
       ":   71zwieback\n",
       ":   68soups\n",
       ":   67finished_products\n",
       ":   64vinegar\n",
       ":   64female_sanitary_products\n",
       ":   60kitchen_towels\n",
       ":   59dental_care\n",
       ":   57cereals\n",
       ":   56sparkling_wine\n",
       ":   55sauces\n",
       ":   54softener\n",
       ":   54jam\n",
       ":   53spices\n",
       ":   51liver_loaf\n",
       ":   50curd_cheese\n",
       ":   50cleaner\n",
       ":   50male_cosmetics\n",
       ":   45rum\n",
       ":   44ketchup\n",
       ":   42meat_spreads\n",
       ":   42brandy\n",
       ":   41light_bulbs\n",
       ":   41tea\n",
       ":   38specialty_fat\n",
       ":   36abrasive_cleaner\n",
       ":   35skin_care\n",
       ":   35nuts_or_prunes\n",
       ":   33artif_sweetener\n",
       ":   32canned_fruit\n",
       ":   32syrup\n",
       ":   32nut_snack\n",
       ":   31snack_products\n",
       ":   30fish\n",
       ":   29potato_products\n",
       ":   28bathroom_cleaner\n",
       ":   27cookware\n",
       ":   27soap\n",
       ":   26cooking_chocolate\n",
       ":   25tidbits\n",
       ":   23pudding_powder\n",
       ":   23organic_sausage\n",
       ":   22cocoa_drinks\n",
       ":   22prosecco\n",
       ":   20flower_soil_or_fertilizer\n",
       ":   19ready_soups\n",
       ":   18specialty_vegetables\n",
       ":   17organic_products\n",
       ":   16honey\n",
       ":   15decalcifier\n",
       ":   15cream\n",
       ":   13frozen_fruits\n",
       ":   12hair_spray\n",
       ":   11rubbing_alcohol\n",
       ":   10liqueur\n",
       ":   9salad_dressing\n",
       ":   8whisky\n",
       ":   8make_up_remover\n",
       ":   8toilet_cleaner\n",
       ":   7frozen_chicken\n",
       ":   6baby_cosmetics\n",
       ":   6kitchen_utensil\n",
       ":   4bags\n",
       ":   4preservation_products\n",
       ":   2baby_food\n",
       ":   1sound_storage_medium\n",
       ":   1\n",
       "\n"
      ],
      "text/plain": [
       "                  whole_milk             other_vegetables \n",
       "                        2513                         1903 \n",
       "               rolls_or_buns                         soda \n",
       "                        1809                         1715 \n",
       "                      yogurt                bottled_water \n",
       "                        1372                         1087 \n",
       "             root_vegetables               tropical_fruit \n",
       "                        1072                         1032 \n",
       "               shopping_bags                      sausage \n",
       "                         969                          924 \n",
       "                      pastry                 citrus_fruit \n",
       "                         875                          814 \n",
       "                bottled_beer                   newspapers \n",
       "                         792                          785 \n",
       "                 canned_beer                    pip_fruit \n",
       "                         764                          744 \n",
       "    fruit_or_vegetable_juice        whipped_or_sour_cream \n",
       "                         711                          705 \n",
       "                 brown_bread                domestic_eggs \n",
       "                         638                          624 \n",
       "                 frankfurter                    margarine \n",
       "                         580                          576 \n",
       "                      coffee                         pork \n",
       "                         571                          567 \n",
       "                      butter                         curd \n",
       "                         545                          524 \n",
       "                        beef                      napkins \n",
       "                         516                          515 \n",
       "                   chocolate            frozen_vegetables \n",
       "                         488                          473 \n",
       "                     chicken                  white_bread \n",
       "                         422                          414 \n",
       "               cream_cheese_                      waffles \n",
       "                         390                          378 \n",
       "                 salty_snack     long_life_bakery_product \n",
       "                         372                          368 \n",
       "                     dessert                        sugar \n",
       "                         365                          333 \n",
       "                    UHT-milk               hamburger_meat \n",
       "                         329                          327 \n",
       "                     berries             hygiene_articles \n",
       "                         327                          324 \n",
       "                      onions          specialty_chocolate \n",
       "                         305                          299 \n",
       "                       candy                 frozen_meals \n",
       "                         294                          279 \n",
       "              misc_beverages                          oil \n",
       "                         279                          276 \n",
       "                 butter_milk                specialty_bar \n",
       "                         275                          269 \n",
       "                         ham                    beverages \n",
       "                         256                          256 \n",
       "                        meat                    ice_cream \n",
       "                         254                          246 \n",
       "               sliced_cheese                  hard_cheese \n",
       "                         241                          241 \n",
       "                    cat_food                       grapes \n",
       "                         229                          220 \n",
       "                 chewing_gum            red_or_blush_wine \n",
       "                         207                          189 \n",
       "                   detergent                   white_wine \n",
       "                         189                          187 \n",
       "          pickled_vegetables          semi-finished_bread \n",
       "                         176                          174 \n",
       "               baking_powder                       dishes \n",
       "                         174                          173 \n",
       "                       flour                   pot_plants \n",
       "                         171                          170 \n",
       "                 soft_cheese             processed_cheese \n",
       "                         168                          163 \n",
       "                       herbs                        pasta \n",
       "                         160                          148 \n",
       "                 canned_fish            seasonal_products \n",
       "                         148                          140 \n",
       "                    cake_bar packaged_fruit_or_vegetables \n",
       "                         130                          128 \n",
       "                     mustard                  frozen_fish \n",
       "                         118                          115 \n",
       "          cling_film_or_bags                spread_cheese \n",
       "                         112                          110 \n",
       "                      liquor               frozen_dessert \n",
       "                         109                          106 \n",
       "                        salt            canned_vegetables \n",
       "                         106                          106 \n",
       "                dish_cleaner                 flower_seeds \n",
       "                         103                          102 \n",
       "              condensed_milk               roll_products_ \n",
       "                         101                          101 \n",
       "                    pet_care                photo_or_film \n",
       "                          93                           91 \n",
       "                  mayonnaise                sweet_spreads \n",
       "                          90                           89 \n",
       "       chocolate_marshmallow                      candles \n",
       "                          89                           88 \n",
       "            specialty_cheese                     dog_food \n",
       "                          84                           84 \n",
       "      frozen_potato_products       house_keeping_products \n",
       "                          83                           82 \n",
       "                      turkey        Instant_food_products \n",
       "                          80                           79 \n",
       "            liquor_appetizer                         rice \n",
       "                          78                           75 \n",
       "              instant_coffee                      popcorn \n",
       "                          73                           71 \n",
       "                    zwieback                        soups \n",
       "                          68                           67 \n",
       "           finished_products                      vinegar \n",
       "                          64                           64 \n",
       "    female_sanitary_products               kitchen_towels \n",
       "                          60                           59 \n",
       "                 dental_care                      cereals \n",
       "                          57                           56 \n",
       "              sparkling_wine                       sauces \n",
       "                          55                           54 \n",
       "                    softener                          jam \n",
       "                          54                           53 \n",
       "                      spices                   liver_loaf \n",
       "                          51                           50 \n",
       "                 curd_cheese                      cleaner \n",
       "                          50                           50 \n",
       "              male_cosmetics                          rum \n",
       "                          45                           44 \n",
       "                     ketchup                 meat_spreads \n",
       "                          42                           42 \n",
       "                      brandy                  light_bulbs \n",
       "                          41                           41 \n",
       "                         tea                specialty_fat \n",
       "                          38                           36 \n",
       "            abrasive_cleaner                    skin_care \n",
       "                          35                           35 \n",
       "              nuts_or_prunes              artif_sweetener \n",
       "                          33                           32 \n",
       "                canned_fruit                        syrup \n",
       "                          32                           32 \n",
       "                   nut_snack               snack_products \n",
       "                          31                           30 \n",
       "                        fish              potato_products \n",
       "                          29                           28 \n",
       "            bathroom_cleaner                     cookware \n",
       "                          27                           27 \n",
       "                        soap            cooking_chocolate \n",
       "                          26                           25 \n",
       "                     tidbits               pudding_powder \n",
       "                          23                           23 \n",
       "             organic_sausage                 cocoa_drinks \n",
       "                          22                           22 \n",
       "                    prosecco    flower_soil_or_fertilizer \n",
       "                          20                           19 \n",
       "                 ready_soups         specialty_vegetables \n",
       "                          18                           17 \n",
       "            organic_products                        honey \n",
       "                          16                           15 \n",
       "                 decalcifier                        cream \n",
       "                          15                           13 \n",
       "               frozen_fruits                   hair_spray \n",
       "                          12                           11 \n",
       "             rubbing_alcohol                      liqueur \n",
       "                          10                            9 \n",
       "              salad_dressing                       whisky \n",
       "                           8                            8 \n",
       "             make_up_remover               toilet_cleaner \n",
       "                           8                            7 \n",
       "              frozen_chicken               baby_cosmetics \n",
       "                           6                            6 \n",
       "             kitchen_utensil                         bags \n",
       "                           4                            4 \n",
       "       preservation_products                    baby_food \n",
       "                           2                            1 \n",
       "        sound_storage_medium \n",
       "                           1 "
      ]
     },
     "metadata": {},
     "output_type": "display_data"
    }
   ],
   "source": [
    "head(sort(colSums(b), decreasing = TRUE))"
   ]
  },
  {
   "cell_type": "markdown",
   "id": "98b7fdc9",
   "metadata": {},
   "source": [
    "Parece razonable por lo tanto descartar aquellos productos raros, y centrarse en los principales (recordemos que la regla está basada en un support de 0.01). Si tomamos por ejemplo los 100 productos más numerosos, aseguraremos un número mínimo de registros que permitirán construir un modelo bayesiano más robusto, descartando casos raros."
   ]
  },
  {
   "cell_type": "code",
   "execution_count": 10,
   "id": "e2e8a95c",
   "metadata": {},
   "outputs": [],
   "source": [
    "filter.products <- names(sort(colSums(b), decreasing = TRUE)[1:100])\n",
    "ind <- match(filter.products, product.names)\n",
    "b <- b[,ind]"
   ]
  },
  {
   "cell_type": "markdown",
   "id": "aec97862",
   "metadata": {},
   "source": [
    "Además, nos aseguramos de que la variable es categórica con el método de coerción as.factor. El resultado final, es un data.frame con productos en columnas y transacciones en filas (el mismo formato en que hemos trabajado el conjunto de datos survey):"
   ]
  },
  {
   "cell_type": "code",
   "execution_count": 11,
   "id": "d1efe654",
   "metadata": {},
   "outputs": [
    {
     "data": {
      "text/html": [
       "<table class=\"dataframe\">\n",
       "<caption>A data.frame: 6 × 100</caption>\n",
       "<thead>\n",
       "\t<tr><th></th><th scope=col>whole_milk</th><th scope=col>other_vegetables</th><th scope=col>rolls_or_buns</th><th scope=col>soda</th><th scope=col>yogurt</th><th scope=col>bottled_water</th><th scope=col>root_vegetables</th><th scope=col>tropical_fruit</th><th scope=col>shopping_bags</th><th scope=col>sausage</th><th scope=col>⋯</th><th scope=col>mayonnaise</th><th scope=col>sweet_spreads</th><th scope=col>chocolate_marshmallow</th><th scope=col>candles</th><th scope=col>specialty_cheese</th><th scope=col>dog_food</th><th scope=col>frozen_potato_products</th><th scope=col>house_keeping_products</th><th scope=col>turkey</th><th scope=col>Instant_food_products</th></tr>\n",
       "\t<tr><th></th><th scope=col>&lt;fct&gt;</th><th scope=col>&lt;fct&gt;</th><th scope=col>&lt;fct&gt;</th><th scope=col>&lt;fct&gt;</th><th scope=col>&lt;fct&gt;</th><th scope=col>&lt;fct&gt;</th><th scope=col>&lt;fct&gt;</th><th scope=col>&lt;fct&gt;</th><th scope=col>&lt;fct&gt;</th><th scope=col>&lt;fct&gt;</th><th scope=col>⋯</th><th scope=col>&lt;fct&gt;</th><th scope=col>&lt;fct&gt;</th><th scope=col>&lt;fct&gt;</th><th scope=col>&lt;fct&gt;</th><th scope=col>&lt;fct&gt;</th><th scope=col>&lt;fct&gt;</th><th scope=col>&lt;fct&gt;</th><th scope=col>&lt;fct&gt;</th><th scope=col>&lt;fct&gt;</th><th scope=col>&lt;fct&gt;</th></tr>\n",
       "</thead>\n",
       "<tbody>\n",
       "\t<tr><th scope=row>1</th><td>FALSE</td><td>FALSE</td><td>FALSE</td><td>FALSE</td><td>FALSE</td><td>FALSE</td><td>FALSE</td><td>FALSE</td><td>FALSE</td><td>FALSE</td><td>⋯</td><td>FALSE</td><td>FALSE</td><td>FALSE</td><td>FALSE</td><td>FALSE</td><td>FALSE</td><td>FALSE</td><td>FALSE</td><td>FALSE</td><td>FALSE</td></tr>\n",
       "\t<tr><th scope=row>2</th><td>FALSE</td><td>FALSE</td><td>FALSE</td><td>FALSE</td><td>TRUE </td><td>FALSE</td><td>FALSE</td><td>TRUE </td><td>FALSE</td><td>FALSE</td><td>⋯</td><td>FALSE</td><td>FALSE</td><td>FALSE</td><td>FALSE</td><td>FALSE</td><td>FALSE</td><td>FALSE</td><td>FALSE</td><td>FALSE</td><td>FALSE</td></tr>\n",
       "\t<tr><th scope=row>3</th><td>TRUE </td><td>FALSE</td><td>FALSE</td><td>FALSE</td><td>FALSE</td><td>FALSE</td><td>FALSE</td><td>FALSE</td><td>FALSE</td><td>FALSE</td><td>⋯</td><td>FALSE</td><td>FALSE</td><td>FALSE</td><td>FALSE</td><td>FALSE</td><td>FALSE</td><td>FALSE</td><td>FALSE</td><td>FALSE</td><td>FALSE</td></tr>\n",
       "\t<tr><th scope=row>4</th><td>FALSE</td><td>FALSE</td><td>FALSE</td><td>FALSE</td><td>TRUE </td><td>FALSE</td><td>FALSE</td><td>FALSE</td><td>FALSE</td><td>FALSE</td><td>⋯</td><td>FALSE</td><td>FALSE</td><td>FALSE</td><td>FALSE</td><td>FALSE</td><td>FALSE</td><td>FALSE</td><td>FALSE</td><td>FALSE</td><td>FALSE</td></tr>\n",
       "\t<tr><th scope=row>5</th><td>TRUE </td><td>TRUE </td><td>FALSE</td><td>FALSE</td><td>FALSE</td><td>FALSE</td><td>FALSE</td><td>FALSE</td><td>FALSE</td><td>FALSE</td><td>⋯</td><td>FALSE</td><td>FALSE</td><td>FALSE</td><td>FALSE</td><td>FALSE</td><td>FALSE</td><td>FALSE</td><td>FALSE</td><td>FALSE</td><td>FALSE</td></tr>\n",
       "\t<tr><th scope=row>6</th><td>TRUE </td><td>FALSE</td><td>FALSE</td><td>FALSE</td><td>TRUE </td><td>FALSE</td><td>FALSE</td><td>FALSE</td><td>FALSE</td><td>FALSE</td><td>⋯</td><td>FALSE</td><td>FALSE</td><td>FALSE</td><td>FALSE</td><td>FALSE</td><td>FALSE</td><td>FALSE</td><td>FALSE</td><td>FALSE</td><td>FALSE</td></tr>\n",
       "</tbody>\n",
       "</table>\n"
      ],
      "text/latex": [
       "A data.frame: 6 × 100\n",
       "\\begin{tabular}{r|lllllllllllllllllllll}\n",
       "  & whole\\_milk & other\\_vegetables & rolls\\_or\\_buns & soda & yogurt & bottled\\_water & root\\_vegetables & tropical\\_fruit & shopping\\_bags & sausage & ⋯ & mayonnaise & sweet\\_spreads & chocolate\\_marshmallow & candles & specialty\\_cheese & dog\\_food & frozen\\_potato\\_products & house\\_keeping\\_products & turkey & Instant\\_food\\_products\\\\\n",
       "  & <fct> & <fct> & <fct> & <fct> & <fct> & <fct> & <fct> & <fct> & <fct> & <fct> & ⋯ & <fct> & <fct> & <fct> & <fct> & <fct> & <fct> & <fct> & <fct> & <fct> & <fct>\\\\\n",
       "\\hline\n",
       "\t1 & FALSE & FALSE & FALSE & FALSE & FALSE & FALSE & FALSE & FALSE & FALSE & FALSE & ⋯ & FALSE & FALSE & FALSE & FALSE & FALSE & FALSE & FALSE & FALSE & FALSE & FALSE\\\\\n",
       "\t2 & FALSE & FALSE & FALSE & FALSE & TRUE  & FALSE & FALSE & TRUE  & FALSE & FALSE & ⋯ & FALSE & FALSE & FALSE & FALSE & FALSE & FALSE & FALSE & FALSE & FALSE & FALSE\\\\\n",
       "\t3 & TRUE  & FALSE & FALSE & FALSE & FALSE & FALSE & FALSE & FALSE & FALSE & FALSE & ⋯ & FALSE & FALSE & FALSE & FALSE & FALSE & FALSE & FALSE & FALSE & FALSE & FALSE\\\\\n",
       "\t4 & FALSE & FALSE & FALSE & FALSE & TRUE  & FALSE & FALSE & FALSE & FALSE & FALSE & ⋯ & FALSE & FALSE & FALSE & FALSE & FALSE & FALSE & FALSE & FALSE & FALSE & FALSE\\\\\n",
       "\t5 & TRUE  & TRUE  & FALSE & FALSE & FALSE & FALSE & FALSE & FALSE & FALSE & FALSE & ⋯ & FALSE & FALSE & FALSE & FALSE & FALSE & FALSE & FALSE & FALSE & FALSE & FALSE\\\\\n",
       "\t6 & TRUE  & FALSE & FALSE & FALSE & TRUE  & FALSE & FALSE & FALSE & FALSE & FALSE & ⋯ & FALSE & FALSE & FALSE & FALSE & FALSE & FALSE & FALSE & FALSE & FALSE & FALSE\\\\\n",
       "\\end{tabular}\n"
      ],
      "text/markdown": [
       "\n",
       "A data.frame: 6 × 100\n",
       "\n",
       "| <!--/--> | whole_milk &lt;fct&gt; | other_vegetables &lt;fct&gt; | rolls_or_buns &lt;fct&gt; | soda &lt;fct&gt; | yogurt &lt;fct&gt; | bottled_water &lt;fct&gt; | root_vegetables &lt;fct&gt; | tropical_fruit &lt;fct&gt; | shopping_bags &lt;fct&gt; | sausage &lt;fct&gt; | ⋯ ⋯ | mayonnaise &lt;fct&gt; | sweet_spreads &lt;fct&gt; | chocolate_marshmallow &lt;fct&gt; | candles &lt;fct&gt; | specialty_cheese &lt;fct&gt; | dog_food &lt;fct&gt; | frozen_potato_products &lt;fct&gt; | house_keeping_products &lt;fct&gt; | turkey &lt;fct&gt; | Instant_food_products &lt;fct&gt; |\n",
       "|---|---|---|---|---|---|---|---|---|---|---|---|---|---|---|---|---|---|---|---|---|---|\n",
       "| 1 | FALSE | FALSE | FALSE | FALSE | FALSE | FALSE | FALSE | FALSE | FALSE | FALSE | ⋯ | FALSE | FALSE | FALSE | FALSE | FALSE | FALSE | FALSE | FALSE | FALSE | FALSE |\n",
       "| 2 | FALSE | FALSE | FALSE | FALSE | TRUE  | FALSE | FALSE | TRUE  | FALSE | FALSE | ⋯ | FALSE | FALSE | FALSE | FALSE | FALSE | FALSE | FALSE | FALSE | FALSE | FALSE |\n",
       "| 3 | TRUE  | FALSE | FALSE | FALSE | FALSE | FALSE | FALSE | FALSE | FALSE | FALSE | ⋯ | FALSE | FALSE | FALSE | FALSE | FALSE | FALSE | FALSE | FALSE | FALSE | FALSE |\n",
       "| 4 | FALSE | FALSE | FALSE | FALSE | TRUE  | FALSE | FALSE | FALSE | FALSE | FALSE | ⋯ | FALSE | FALSE | FALSE | FALSE | FALSE | FALSE | FALSE | FALSE | FALSE | FALSE |\n",
       "| 5 | TRUE  | TRUE  | FALSE | FALSE | FALSE | FALSE | FALSE | FALSE | FALSE | FALSE | ⋯ | FALSE | FALSE | FALSE | FALSE | FALSE | FALSE | FALSE | FALSE | FALSE | FALSE |\n",
       "| 6 | TRUE  | FALSE | FALSE | FALSE | TRUE  | FALSE | FALSE | FALSE | FALSE | FALSE | ⋯ | FALSE | FALSE | FALSE | FALSE | FALSE | FALSE | FALSE | FALSE | FALSE | FALSE |\n",
       "\n"
      ],
      "text/plain": [
       "  whole_milk other_vegetables rolls_or_buns soda  yogurt bottled_water\n",
       "1 FALSE      FALSE            FALSE         FALSE FALSE  FALSE        \n",
       "2 FALSE      FALSE            FALSE         FALSE TRUE   FALSE        \n",
       "3 TRUE       FALSE            FALSE         FALSE FALSE  FALSE        \n",
       "4 FALSE      FALSE            FALSE         FALSE TRUE   FALSE        \n",
       "5 TRUE       TRUE             FALSE         FALSE FALSE  FALSE        \n",
       "6 TRUE       FALSE            FALSE         FALSE TRUE   FALSE        \n",
       "  root_vegetables tropical_fruit shopping_bags sausage ⋯ mayonnaise\n",
       "1 FALSE           FALSE          FALSE         FALSE   ⋯ FALSE     \n",
       "2 FALSE           TRUE           FALSE         FALSE   ⋯ FALSE     \n",
       "3 FALSE           FALSE          FALSE         FALSE   ⋯ FALSE     \n",
       "4 FALSE           FALSE          FALSE         FALSE   ⋯ FALSE     \n",
       "5 FALSE           FALSE          FALSE         FALSE   ⋯ FALSE     \n",
       "6 FALSE           FALSE          FALSE         FALSE   ⋯ FALSE     \n",
       "  sweet_spreads chocolate_marshmallow candles specialty_cheese dog_food\n",
       "1 FALSE         FALSE                 FALSE   FALSE            FALSE   \n",
       "2 FALSE         FALSE                 FALSE   FALSE            FALSE   \n",
       "3 FALSE         FALSE                 FALSE   FALSE            FALSE   \n",
       "4 FALSE         FALSE                 FALSE   FALSE            FALSE   \n",
       "5 FALSE         FALSE                 FALSE   FALSE            FALSE   \n",
       "6 FALSE         FALSE                 FALSE   FALSE            FALSE   \n",
       "  frozen_potato_products house_keeping_products turkey Instant_food_products\n",
       "1 FALSE                  FALSE                  FALSE  FALSE                \n",
       "2 FALSE                  FALSE                  FALSE  FALSE                \n",
       "3 FALSE                  FALSE                  FALSE  FALSE                \n",
       "4 FALSE                  FALSE                  FALSE  FALSE                \n",
       "5 FALSE                  FALSE                  FALSE  FALSE                \n",
       "6 FALSE                  FALSE                  FALSE  FALSE                "
      ]
     },
     "metadata": {},
     "output_type": "display_data"
    }
   ],
   "source": [
    "b <- apply(b, 2, \"as.factor\")\n",
    "groc <- as.data.frame(b, stringsAsFactors = T)\n",
    "head(groc)"
   ]
  },
  {
   "cell_type": "markdown",
   "id": "6ddc9d43",
   "metadata": {},
   "source": [
    "**Ejercicio:** Construye una red Bayesiana (utilizando hill-climbing y el score \"Bayesian Information Criterion (BIC)\") que modelice los datos y dibuja su grafo."
   ]
  },
  {
   "cell_type": "code",
   "execution_count": null,
   "id": "1077f409",
   "metadata": {},
   "outputs": [],
   "source": []
  },
  {
   "cell_type": "markdown",
   "id": "f753ffca",
   "metadata": {},
   "source": [
    "Resulta ineteresante destacar la dramática reducción en el número de parámetros gracias a la red bayesiana, que resulta mucho más llamativa que en el ejemplo survey:\n",
    "\n"
   ]
  },
  {
   "cell_type": "code",
   "execution_count": 14,
   "id": "0dc342f5",
   "metadata": {},
   "outputs": [
    {
     "data": {
      "text/html": [
       "399"
      ],
      "text/latex": [
       "399"
      ],
      "text/markdown": [
       "399"
      ],
      "text/plain": [
       "[1] 399"
      ]
     },
     "metadata": {},
     "output_type": "display_data"
    },
    {
     "data": {
      "text/html": [
       "1267650600228229401496703205376"
      ],
      "text/latex": [
       "1267650600228229401496703205376"
      ],
      "text/markdown": [
       "1267650600228229401496703205376"
      ],
      "text/plain": [
       "[1] 1267650600228229401496703205376"
      ]
     },
     "metadata": {},
     "output_type": "display_data"
    }
   ],
   "source": [
    "options(scipen = 999) # esto es simplemente para que no utilice notación científica\n",
    "nparams(redb)\n",
    "\n",
    "2^ncol(groc)"
   ]
  },
  {
   "cell_type": "markdown",
   "id": "f7cb4421",
   "metadata": {},
   "source": [
    "Obviamente, se trata de una red de cierta complejidad, dado el número de nodos (100) y arcos:"
   ]
  },
  {
   "cell_type": "code",
   "execution_count": 15,
   "id": "afcfccad",
   "metadata": {},
   "outputs": [
    {
     "data": {
      "text/html": [
       "'100 nodos y 372 arcos'"
      ],
      "text/latex": [
       "'100 nodos y 372 arcos'"
      ],
      "text/markdown": [
       "'100 nodos y 372 arcos'"
      ],
      "text/plain": [
       "[1] \"100 nodos y 372 arcos\""
      ]
     },
     "metadata": {},
     "output_type": "display_data"
    }
   ],
   "source": [
    "paste(length(nodes(grafo)),\"nodos y\",\n",
    "      length(arcs(grafo)), \"arcos\")"
   ]
  },
  {
   "cell_type": "markdown",
   "id": "74369d00",
   "metadata": {},
   "source": [
    "**Ejercicio**: Para la siguiente regla:"
   ]
  },
  {
   "cell_type": "code",
   "execution_count": 16,
   "id": "a104ba74",
   "metadata": {},
   "outputs": [
    {
     "name": "stdout",
     "output_type": "stream",
     "text": [
      "    lhs                              rhs      support     confidence\n",
      "[1] {bottled beer,red/blush wine} => {liquor} 0.001931876 0.3958333 \n",
      "    coverage    lift     count\n",
      "[1] 0.004880529 35.71579 19   \n"
     ]
    }
   ],
   "source": [
    "inspect(head(sort(rules, by = \"lift\"), 1))"
   ]
  },
  {
   "cell_type": "markdown",
   "id": "2e0e62e0",
   "metadata": {},
   "source": [
    "que indica una relacion entre la cerveza y el vino, y la compra de licores. Comprueba de forma analítica,  utilizando inferencia aproximada, que se da está regla"
   ]
  },
  {
   "cell_type": "code",
   "execution_count": null,
   "id": "8647548c",
   "metadata": {},
   "outputs": [],
   "source": []
  },
  {
   "cell_type": "markdown",
   "id": "61954af4",
   "metadata": {},
   "source": [
    "**Ejercicio**: Si sabemos que alguien compra `bottled_beer` pero no `bottled_water` ¿Cambia la probabilidad de que se compre `liquor`?"
   ]
  },
  {
   "cell_type": "code",
   "execution_count": null,
   "id": "64c4ebde",
   "metadata": {},
   "outputs": [],
   "source": []
  },
  {
   "cell_type": "markdown",
   "id": "73d8eb70",
   "metadata": {},
   "source": [
    "**Ejercicio**: Para esta misma regla, comprueba mediante la red Bayesiana el *lift*, *support* y *confidence*:"
   ]
  },
  {
   "cell_type": "markdown",
   "id": "dfd3728b",
   "metadata": {},
   "source": [
    " $$\\frac{\\frac{ \\text{Transacciones que contienen } X, Y}{\\text{Transacciones que contienen } X}}{\\frac{ \\text{Transacciones que contienen }  Y}{\\text{Todas las Transacciones}}}$$"
   ]
  },
  {
   "cell_type": "markdown",
   "id": "b2dd76f2",
   "metadata": {},
   "source": [
    "El soporte corresponde a"
   ]
  },
  {
   "cell_type": "markdown",
   "id": "de995bca",
   "metadata": {},
   "source": [
    " $$\\frac{\\text{Transacciones que contienen } X, Y}{\\text{Todas las Transacciones}}$$"
   ]
  },
  {
   "cell_type": "markdown",
   "id": "fe9b34b9",
   "metadata": {},
   "source": [
    "Y la *confidence* a"
   ]
  },
  {
   "cell_type": "markdown",
   "id": "3564f73f",
   "metadata": {},
   "source": [
    "$$ \\frac{ \\text{Transacciones que contienen } X, Y}{\\text{Transacciones que contienen } X}$$"
   ]
  },
  {
   "cell_type": "code",
   "execution_count": null,
   "id": "cca37f82",
   "metadata": {},
   "outputs": [],
   "source": []
  },
  {
   "cell_type": "markdown",
   "id": "aacba209",
   "metadata": {},
   "source": [
    "**Ejercicio**: ¿Existe alguna v-estructura que involucre `bottled_beer`?"
   ]
  },
  {
   "cell_type": "code",
   "execution_count": null,
   "id": "154117f5",
   "metadata": {},
   "outputs": [],
   "source": [
    "                "
   ]
  },
  {
   "cell_type": "markdown",
   "id": "0681656b",
   "metadata": {},
   "source": [
    "**Ejercicio**: ¿Comprar o no comprar leche (`whole_milk`) tiene influencia sobre comprar Licor `liquor`? ¿Y agua (`bottled_water`)?"
   ]
  },
  {
   "cell_type": "code",
   "execution_count": null,
   "id": "e803565c",
   "metadata": {},
   "outputs": [],
   "source": []
  },
  {
   "cell_type": "markdown",
   "id": "f8bcdd90",
   "metadata": {},
   "source": [
    "Dado que estamos realizando inferencia aproximada, los resultados no son exactos, y por lo tanto se mueven dentro de un margen de error muestral. Veamos los resultados tras 100 realizaciones:"
   ]
  },
  {
   "cell_type": "code",
   "execution_count": 23,
   "id": "baecf370",
   "metadata": {},
   "outputs": [
    {
     "data": {
      "image/png": "[encoded data removed]",
      "text/plain": [
       "Plot with title “Probabilidad condicional de vino+cerveza”"
      ]
     },
     "metadata": {
      "image/png": {
       "height": 420,
       "width": 420
      }
     },
     "output_type": "display_data"
    }
   ],
   "source": [
    "liq.no <- liq.yes <- rep(NA,100)\n",
    "for (i in 1:100) {\n",
    "    liq.no[i] <- cpquery(redb,\n",
    "                         event = (bottled_beer == TRUE) & (red_or_blush_wine == TRUE),\n",
    "                         evidence = (liquor == FALSE))\n",
    "    liq.yes[i] <- cpquery(redb,\n",
    "                          event = (bottled_beer == TRUE) & (red_or_blush_wine == TRUE),\n",
    "                          evidence = (liquor == TRUE))\n",
    "}\n",
    "df <- cbind.data.frame(\"P(b,w|l=TRUE)\" = liq.yes,\n",
    "                       \"P(b,w|l=FALSE)\" = liq.no)\n",
    "boxplot(df, main = \"Probabilidad condicional de vino+cerveza\")\n",
    "mtext(\"Estimación aproximada con cpQuery (100 realizaciones)\")\n",
    "legend(\"topright\", c(\"b=bottled beer\",\"w=wine\",\"l=liquor\"), bty = \"n\")"
   ]
  },
  {
   "cell_type": "markdown",
   "id": "812bd004",
   "metadata": {},
   "source": [
    "### Referencias\n",
    "\n",
    "Gutiérrez, J.M., Cano, R., Cofiño, A.S., Sordo, C., 2004. Redes probabilísticas y neuronales en las ciencias atmosféricas. Centro de Publicaciones, Ministerio de Medio Ambiente, Madrid, Spain.\n",
    "\n",
    "Scutari, M., Denis, J.-B., 2014. Bayesian networks: with examples in R.\n",
    "\n",
    "Scutari, M., 2014. Bayesian Network Constraint-Based Structure Learning Algorithms: Parallel and Optimised Implementations in the bnlearn R Package. http://arxiv.org/abs/1406.7648\n",
    "\n",
    "r-bayesian-networks. http://www.r-bayesian-networks.org/ (Last accessed 18 Nov 2017)\n",
    "\n",
    "Nagarajan, R., Scutari, M. and Lèbre, S. 2013. Bayesian networks in R: with applications in systems biology, Use R! Springer, New York.\n",
    "\n"
   ]
  }
 ],
 "metadata": {
  "kernelspec": {
   "display_name": "R",
   "language": "R",
   "name": "ir"
  },
  "language_info": {
   "codemirror_mode": "r",
   "file_extension": ".r",
   "mimetype": "text/x-r-source",
   "name": "R",
   "pygments_lexer": "r",
   "version": "4.1.3"
  }
 },
 "nbformat": 4,
 "nbformat_minor": 5
}
