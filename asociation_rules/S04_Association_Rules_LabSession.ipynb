{
 "cells": [
  {
   "cell_type": "markdown",
   "metadata": {},
   "source": [
    "# Reglas de Asociación: arulesViz R-package\n",
    "\n",
    "**Santander Meteorology Group**\n",
    "\n",
    "http://meteo.unican.es\n",
    "\n",
    "11 Nov 2021\n"
   ]
  },
  {
   "cell_type": "markdown",
   "metadata": {},
   "source": [
    "## Resumen\n",
    "\n",
    "Las librerías [arules](https://cran.r-project.org/web/packages/arules/arules.pdf) y [arulesViz](https://cran.r-project.org/web/packages/arulesViz/arulesViz.pdf) (Hashler 2017) desarrollada por [IDA@SMU](http://lyle.smu.edu/IDA/arules/) consideran diferentes técnicas para la obtención y visualización de reglas de asociación a partir de un conjunto de datos, así como herramientas para explorar dichas reglas.\n",
    "\n",
    "El objetivo de la presente tarea es familiarizar a los alumnos con el manejo de estas librerías en el marco de R, así como presentar este tipo de algoritmos de aprendizaje el cual, a pesar de no profundizar en el presente curso en él, presenta diversas aplicaciones y nos servirá de introducción a los modelos probabilísticos que analizaremos posteriormente en mayor profundidad."
   ]
  },
  {
   "cell_type": "markdown",
   "metadata": {},
   "source": [
    "## Reglas de asociacion en el contexto del aprendizaje estadístico\n",
    "\n",
    "Las reglas de asociación son uno de los primeros métodos que aparecieron en el campo que hoy se conoce como la _minería de datos_, introducidos por _Agrawal et al._ (1993).\n",
    "\n",
    "Sea $I = \\{i_{1}, i_{2}, \\ldots i_{n}\\}$ un conjunto de $n$ variables binarias denominadas _items_. Por otra parte, sea $\\mathcal{D} = \\{ t_{1}, t_{2}, \\ldots , t_{n} \\}$ un conjunto de transacciones que constituye una _base de datos_. Cada transacción en $\\mathcal{D}$ tiene un identificador (ID) único y contiene un subconjunto de elementos en $I$. A partir de esto, una _regla_ se define como una implicación de la forma $X \\Rightarrow Y$ donde $X, Y \\subseteq I$, y $X \\cap Y = \\emptyset$. Los conjuntos de _items_ $X$ e $Y$ se denominan _antecedentes_ (a la izquierda, o `LHS` como los veremos a continuación) y _consecuentes_ (a la derecha, `RHS`) de la regla. A menudo las reglas se restringen a un único elemento en el _consecuente_.\n",
    "\n",
    "Las reglas de asociación son reglas que superan unos umbrales mínimos especificados por el usuario en cuanto a _relevancia_ (_support_, $supp(X)$) y _confianza_ (_confidence_, $conf(X \\Rightarrow Y)$).\n",
    "\n",
    " * La _relevancia_ (_support_) de un conjunto de items X ($supp(x)$) se define como la **frecuencia de transacciones** en los datos que contienen a dicho conjunto de items\n",
    " * La _confianza_ (_confidence_) de una regla ($conf(X \\Rightarrow Y) = \\frac{supp(X \\cup Y)}{supp(X)}$).\n",
    " \n",
    " Por lo tanto, una regla de asociación $X \\Rightarrow Y$ determinada ha de satisfacer dos condiciones:\n",
    " \n",
    " $$supp(X \\cup Y) \\geq \\sigma$$\n",
    " \n",
    " y\n",
    " \n",
    " $$conf(X \\Rightarrow Y) \\geq \\delta$$\n",
    " \n",
    " siendo $\\sigma$ y $\\delta$ los umbrales mínimos de _relevancia_ y _confianza_ respectivamente.\n",
    "\n",
    "\n",
    "\n"
   ]
  },
  {
   "cell_type": "markdown",
   "metadata": {},
   "source": [
    "## Instalación de la librería arulesViz\n",
    "\n",
    "Dado que la librería está incluida en el CRAN ([The Comprehensive R Archive Network](https://cran.r-project.org/)), el respositorio central de librerías de R, la instalación puede realizarse a través del comando `install.packages`. En caso de tener ya instalado el paquete no hace falta instalarlo de nuevo y basta con activarlo con el comando `library`.\n",
    "\n",
    "### Nota para instalación vía Conda (usuarios de Jupyter)\n",
    "\n",
    "La instalación del paquete `arules`, que implementa los algoritmos ECLAT y APRIORI utilizados para la generación de reglas, puede realizarse de manera sencilla a través del [instalador de Conda](https://anaconda.org/conda-forge/r-arules):  \n",
    "\n",
    "```\n",
    "conda install -c conda-forge r-arules\n",
    "```\n",
    "\n",
    "Posteriormente, será posible instalar el paquete arulesViz desde la propia sesión de R-jupyter con `install.packages`. **Nota**: en algunos casos puede ser necesario instalar algunas dependencias antes de `arulesViz`, tales como el paquete `igraph`\n"
   ]
  },
  {
   "cell_type": "code",
   "execution_count": null,
   "metadata": {},
   "outputs": [],
   "source": [
    "library(\"arules\")"
   ]
  },
  {
   "cell_type": "code",
   "execution_count": null,
   "metadata": {},
   "outputs": [],
   "source": [
    "# If we have not installed the \"arulesViz\" library we must do it first:\n",
    "if (!require(arulesViz)) install.packages(\"arulesViz\", dependencies = TRUE)"
   ]
  },
  {
   "cell_type": "markdown",
   "metadata": {},
   "source": [
    "Nótese que la instalación de la libería requiere de la instalación de sus dependencias. En particular la librería `arules`, la cual se activa al activar `arulesViz`."
   ]
  },
  {
   "cell_type": "markdown",
   "metadata": {},
   "source": [
    "## Ejemplo realizado en clase:\n",
    "\n",
    "Inicialmente consideraremos el ejemplo realizado en clase para familiarizarnos con los comandos y sus opciones para luego aplicarlo en un problema más general. Para ello, primero definiremos la tabla de transacciones del problema:"
   ]
  },
  {
   "cell_type": "markdown",
   "metadata": {},
   "source": [
    "### Definición del conjunto de datos de ejemplo y conversión a la clase `transactions`"
   ]
  },
  {
   "cell_type": "code",
   "execution_count": null,
   "metadata": {},
   "outputs": [],
   "source": [
    "itemset <- paste0(\"item\", 1:10)\n",
    "base::sample(itemset, size = 3, replace = FALSE)"
   ]
  },
  {
   "cell_type": "code",
   "execution_count": null,
   "metadata": {},
   "outputs": [],
   "source": [
    "table <- list(c(\"p\",\"l\",\"O\",\"b\"), c(\"p\",\"l\"), c(\"p\",\"O\",\"c\"), c(\"p\",\"l\",\"O\",\"c\"))\n",
    "transactions <- as(table, \"transactions\")\n",
    "inspect(transactions)"
   ]
  },
  {
   "cell_type": "markdown",
   "metadata": {},
   "source": [
    "### Inspección del conjunto de transacciones y conjuntos de items"
   ]
  },
  {
   "cell_type": "markdown",
   "metadata": {},
   "source": [
    "Podemos ver el soporte de cada item. Con el argumento `type` se especifica si la frecuencia se devuelve en términos absolutos o relativos. "
   ]
  },
  {
   "cell_type": "code",
   "execution_count": null,
   "metadata": {},
   "outputs": [],
   "source": [
    "itemFrequency(transactions, type = \"a\")\n",
    "itemFrequency(transactions, type = \"r\")"
   ]
  },
  {
   "cell_type": "markdown",
   "metadata": {},
   "source": [
    "El método `itemFrequencyPlot` permite representar gráficamente los datos mediante un diagrama de barras:"
   ]
  },
  {
   "cell_type": "code",
   "execution_count": null,
   "metadata": {},
   "outputs": [],
   "source": [
    "itemFrequencyPlot(transactions)"
   ]
  },
  {
   "cell_type": "markdown",
   "metadata": {},
   "source": [
    "Entre los argumentos opcionales del gráfico de frecuencias, existe la posibilidad de filtrar por un valor mínimo de *soporte* del set de items, deshechando los valores menores que el indicado. Por ejemplo:"
   ]
  },
  {
   "cell_type": "code",
   "execution_count": null,
   "metadata": {},
   "outputs": [],
   "source": [
    "itemFrequencyPlot(transactions, support = .5)"
   ]
  },
  {
   "cell_type": "markdown",
   "metadata": {},
   "source": [
    "### Generación de conjuntos de reglas a partir de los datos"
   ]
  },
  {
   "cell_type": "markdown",
   "metadata": {},
   "source": [
    "Una vez definida la tabla de transacciones, buscaremos los itemsets más frecuentes a través de los dos algoritmos explicados:\n",
    "\n",
    "#### Algortimo APRIORI:"
   ]
  },
  {
   "cell_type": "code",
   "execution_count": null,
   "metadata": {},
   "outputs": [],
   "source": [
    "# Ejecución del algoritmo 'apriori'\n",
    "iApriori <- apriori(transactions, parameter = list(supp = 0, conf = 0, target = \"frequent itemsets\"))\n",
    "\n",
    "# Inspección del resultado\n",
    "inspect(iApriori)\n"
   ]
  },
  {
   "cell_type": "markdown",
   "metadata": {},
   "source": [
    "y \n",
    "\n",
    "#### Algoritmo ECLAT:"
   ]
  },
  {
   "cell_type": "code",
   "execution_count": null,
   "metadata": {},
   "outputs": [],
   "source": [
    "# Ejecución del algoritmo 'eclat'\n",
    "iEclat <- eclat(transactions, parameter = list(support = 0, maxlen = 5, tidLists = TRUE))\n",
    "\n",
    "# Inspección del resultado\n",
    "inspect(iEclat)"
   ]
  },
  {
   "cell_type": "markdown",
   "metadata": {},
   "source": [
    "### Inspección del conjunto de reglas. Filtrado y redundancia."
   ]
  },
  {
   "cell_type": "markdown",
   "metadata": {},
   "source": [
    "Notar que ECLAT suprime aquellos itemsets que no ocurren ($supp(X)=0$) mientras que, si no se establecen restricciones, APRIORI devuelve todas las combinaciones, salvo el conjunto vacío y el total. Podemos filtrar las transacciones según incluyan ciertos productos con el método `subset`. La sintaxis `%in%`, `%ain%`, `%pin%` y `%oin` sirve para filtrar items en el subconjunto de salida."
   ]
  },
  {
   "cell_type": "code",
   "execution_count": null,
   "metadata": {},
   "outputs": [],
   "source": [
    "# %in% filtra los sets de item que contienen \"b\" o \"l\" o ambas\n",
    "inspect(subset(iApriori, subset = items %in% c(\"b\",\"l\")))\n"
   ]
  },
  {
   "cell_type": "code",
   "execution_count": null,
   "metadata": {},
   "outputs": [],
   "source": [
    "# %ain% filtra los sets de item que contienen \"b\" y \"l\" simultáneamente\n",
    "inspect(subset(iApriori, subset = items %ain% c(\"b\",\"l\")))\n"
   ]
  },
  {
   "cell_type": "code",
   "execution_count": null,
   "metadata": {},
   "outputs": [],
   "source": [
    "# %pin% realiza \"partial matching\", de acuerdo con la expresión indicada.\n",
    "# Este ejemplo no es el mejor, porque los códigos de los items son un únic caracter.\n",
    "# Ver ?arules::match para un ejemplo mejor\n",
    "\n",
    "inspect(subset(iApriori, subset = items %pin% c(\"b\")))"
   ]
  },
  {
   "cell_type": "code",
   "execution_count": null,
   "metadata": {},
   "outputs": [],
   "source": [
    "# %oin% (\"only in\") es más restrictivo que %in%: \n",
    "# Filtra los itemsets que únicamente contienen los elementos indicados:\n",
    "\n",
    "inspect(subset(iApriori, subset = items %oin% c(\"b\",\"l\")))"
   ]
  },
  {
   "cell_type": "markdown",
   "metadata": {},
   "source": [
    "Como hemos visto, una vez obtenidos los itemsets de partida, se construyen las reglas de asociación en base a las restricciones que se impongan. En el caso del algoritmo APRIORI la función permite obtener las reglas como salida. Sin embargo, el algoritmo ECLAT únicamente devuelve los itemsets, y las reglas de asociación deben inducirse con la función `ruleInduction`."
   ]
  },
  {
   "cell_type": "code",
   "execution_count": null,
   "metadata": {},
   "outputs": [],
   "source": [
    "# El parámetro target = \"rules\" indica al algoritmo apriori la generación de reglas:\n",
    "\n",
    "rApriori <- apriori(transactions, parameter = list(supp = 0, conf = 0, target = \"rules\"))\n",
    "inspect(rApriori)"
   ]
  },
  {
   "cell_type": "markdown",
   "metadata": {},
   "source": [
    "La inclusión de reglas cuyo antecedente (`lhs`: left hand side) es el conjunto vacío (`{}`) pueden fitrarse incluyendo restricciones respecto a la longitud mínima (`minlen`)."
   ]
  },
  {
   "cell_type": "code",
   "execution_count": null,
   "metadata": {},
   "outputs": [],
   "source": [
    "rApriori <- apriori(transactions, parameter = list(supp = 0, conf = 0, target = \"rules\", minlen = 2))\n",
    "inspect(rApriori)"
   ]
  },
  {
   "cell_type": "markdown",
   "metadata": {},
   "source": [
    "En el caso de ECLAT, como vimos, hay que hacer uso de funciones específicas de obtención de reglas:"
   ]
  },
  {
   "cell_type": "code",
   "execution_count": null,
   "metadata": {},
   "outputs": [],
   "source": [
    "rEclat <- ruleInduction(iEclat, transactions, confidence = 0, control = list(method = \"ptree\", reduce = TRUE))\n",
    "inspect(rEclat)"
   ]
  },
  {
   "cell_type": "markdown",
   "metadata": {},
   "source": [
    "Al filtrar itemsets con soporte nulo e incluir la reducción en el algoritmo notar que el número de reglas que aparecen en el algoritmo ECLAT es sensiblemente inferior al obtenido en el algoritmo APRIORI.\n",
    "\n",
    "Al inspeccionar el objeto, bien con las reglas bien con los itemsets, se muestran por defecto tres parámetros, support, confidence y lift, si bien se pueden obtener un gran número de medidas de interés alternativas, gran parte de las cuales pueden usarse también en el proceso de aprendizaje:"
   ]
  },
  {
   "cell_type": "code",
   "execution_count": null,
   "metadata": {},
   "outputs": [],
   "source": [
    "interestMeasure(rEclat, c(\"support\", \"chiSquare\", \"confidence\", \"conviction\",\"cosine\", \"coverage\", \"leverage\", \"lift\", \"oddsRatio\"), transactions)"
   ]
  },
  {
   "cell_type": "markdown",
   "metadata": {},
   "source": [
    "Si bien no hemos realizado ningún filtro a las reglas obtenidas, más allá de las impuestas por los algoritmos de aprendizaje, es habitual obtener reglas redundantes la cuales debemos filtrar. Para ello, la función `is.redundant` nos permite localizar estas redundancias:"
   ]
  },
  {
   "cell_type": "code",
   "execution_count": null,
   "metadata": {},
   "outputs": [],
   "source": [
    "indRedundantApriori <- which(is.redundant(rApriori))\n",
    "inspect(rApriori[indRedundantApriori])"
   ]
  },
  {
   "cell_type": "markdown",
   "metadata": {},
   "source": [
    "Procedemos a filtrar dichas redes:"
   ]
  },
  {
   "cell_type": "code",
   "execution_count": null,
   "metadata": {},
   "outputs": [],
   "source": [
    "rAprioriFiltered <- rApriori[!is.redundant(rApriori)]\n",
    "rEclatFiltered <- rEclat[!is.redundant(rEclat)]"
   ]
  },
  {
   "cell_type": "markdown",
   "metadata": {},
   "source": [
    "e inspeccionamos de nuevo las reglas obtenidas con el algoritmo APRIORI"
   ]
  },
  {
   "cell_type": "code",
   "execution_count": null,
   "metadata": {},
   "outputs": [],
   "source": [
    "inspect(rAprioriFiltered)"
   ]
  },
  {
   "cell_type": "markdown",
   "metadata": {},
   "source": [
    "y con el algoritmo ECLAT"
   ]
  },
  {
   "cell_type": "code",
   "execution_count": null,
   "metadata": {},
   "outputs": [],
   "source": [
    "rEclatFiltered <- rEclat[!is.redundant(rEclat)]\n",
    "inspect(rEclatFiltered)"
   ]
  },
  {
   "cell_type": "markdown",
   "metadata": {},
   "source": [
    "Finalmente, podemos resolver dudas como las siguientes: \n",
    "* Encontrar todas las reglas relacionando cualquier producto con uno dado (p.e. O - Naranja)."
   ]
  },
  {
   "cell_type": "code",
   "execution_count": null,
   "metadata": {},
   "outputs": [],
   "source": [
    "inspect(subset(rAprioriFiltered, subset = rhs %in% c(\"O\")))\n",
    "inspect(subset(rEclatFiltered, subset = rhs %in% c(\"O\")))"
   ]
  },
  {
   "cell_type": "markdown",
   "metadata": {},
   "source": [
    "* Encontrar todas las reglas que dependen de un producto dado (p.e. O - Naranja)."
   ]
  },
  {
   "cell_type": "code",
   "execution_count": null,
   "metadata": {},
   "outputs": [],
   "source": [
    "inspect(subset(rAprioriFiltered, subset = lhs %in% c(\"O\")))\n",
    "inspect(subset(rEclatFiltered, subset = lhs %in% c(\"O\")))"
   ]
  },
  {
   "cell_type": "markdown",
   "metadata": {},
   "source": [
    "* Encontrar todas las reglas que cumplan los dos criterios anteriores para ciertos productos dados."
   ]
  },
  {
   "cell_type": "code",
   "execution_count": null,
   "metadata": {},
   "outputs": [],
   "source": [
    "inspect(subset(rAprioriFiltered, subset = rhs %in% c(\"O\") | lhs %in% c(\"O\")))\n",
    "inspect(subset(rEclatFiltered, subset = rhs %in% c(\"O\") | lhs %in% c(\"O\")))"
   ]
  },
  {
   "cell_type": "markdown",
   "metadata": {},
   "source": [
    "* Encontrar el conjunto de reglas con mayor confianza cumpliendo alguno de los criterios anteriores."
   ]
  },
  {
   "cell_type": "code",
   "execution_count": null,
   "metadata": {},
   "outputs": [],
   "source": [
    "inspect(subset(rAprioriFiltered, subset = rhs %in% c(\"O\") | lhs %in% c(\"O\") & confidence >= 0.5))\n",
    "inspect(subset(rEclatFiltered, subset = rhs %in% c(\"O\") | lhs %in% c(\"O\") & confidence >= 0.5))"
   ]
  },
  {
   "cell_type": "markdown",
   "metadata": {},
   "source": [
    "* Consultar el conjunto de reglas con alguno de los parámetros con valores más altos (`head`) o bajos (`tail`)"
   ]
  },
  {
   "cell_type": "code",
   "execution_count": null,
   "metadata": {},
   "outputs": [],
   "source": [
    "inspect(head(sort(rAprioriFiltered, by =\"lift\"),3))\n",
    "inspect(head(sort(rEclatFiltered, by =\"lift\"),3))\n",
    "inspect(tail(sort(rAprioriFiltered, by =\"lift\"),3))\n",
    "inspect(tail(sort(rEclatFiltered, by =\"lift\"),3))"
   ]
  },
  {
   "cell_type": "markdown",
   "metadata": {},
   "source": [
    "## Herramientas de visualización"
   ]
  },
  {
   "cell_type": "markdown",
   "metadata": {},
   "source": [
    "Finalmente, una vez obtenidas las reglas de asociación, podemos visualizar los resultados.\n",
    "\n",
    "***\n",
    "**NOTA:** En los casos presentados, la función `plot` aplicada a la clase `transactions` permite la opción de activar el motor gráfico [htmlwidgets de R](https://www.htmlwidgets.org/), siempre que éste se encuentre disponible en nuestro entorno de trabajo, mediante la opción `engine = \"htmlwidget\"`. En general, la mayor parte de los métodos gráficos de exploración de reglas de asociación son útiles bajo este modo de representación gráfica interactiva, que permite al usuario identificar elementos gráficos (conjuntos de regals, _itemsets_, etc.) de manera interactiva desplazando el puntero, así como funciones de acercar/alejar y encuadre.\n",
    "\n",
    "***\n",
    "\n",
    "\n",
    "Para instalar el paquete htmlwidgets uede utilizarse install.packages(\"htmlwidgets\") o bien, en un entorno Conda de Jupyter, mediante la [receta correspondiente](https://anaconda.org/r/r-htmlwidgets):\n",
    "\n",
    "```\n",
    "conda install -c r r-htmlwidgets\n",
    "``` \n",
    "\n",
    "Un ejemplo de visualización interactiva desde Jupyter notebook ([ver fuente](https://blog.ouseful.info/2018/04/26/r-htmlwidgets-in-jupyter-notebooks/)):\n",
    "\n",
    "\n",
    "```r\n",
    "m <- plot(rEclatFiltered, method = \"matrix\", measure=\"lift\", engine = \"htmlwidget\")\n",
    "htmlwidgets::saveWidget(m, 'demo.html', selfcontained = FALSE)\n",
    "IRdisplay::display_html('<iframe src=\"demo.html\"></iframe>')\n",
    "```\n",
    "\n"
   ]
  },
  {
   "cell_type": "markdown",
   "metadata": {},
   "source": [
    "### Matriz de itemsets:"
   ]
  },
  {
   "cell_type": "code",
   "execution_count": null,
   "metadata": {},
   "outputs": [],
   "source": [
    "image(iApriori@items, xlab = \"Items\", ylab = \"Itemsets\")\n",
    "image(iEclat@items, xlab = \"Items\", ylab = \"Itemsets\")"
   ]
  },
  {
   "cell_type": "markdown",
   "metadata": {},
   "source": [
    "### Diagramas de dispersión (_scatterplots_) de reglas:"
   ]
  },
  {
   "cell_type": "code",
   "execution_count": null,
   "metadata": {},
   "outputs": [],
   "source": [
    "plot(rAprioriFiltered)"
   ]
  },
  {
   "cell_type": "code",
   "execution_count": null,
   "metadata": {},
   "outputs": [],
   "source": [
    "plot(rEclatFiltered, engine = \"htmlwidget\")"
   ]
  },
  {
   "cell_type": "markdown",
   "metadata": {},
   "source": [
    "### Matrices de asociaciones:"
   ]
  },
  {
   "cell_type": "code",
   "execution_count": null,
   "metadata": {
    "scrolled": true
   },
   "outputs": [],
   "source": [
    "plot(rAprioriFiltered, method = \"matrix\", measure=\"lift\")"
   ]
  },
  {
   "cell_type": "code",
   "execution_count": null,
   "metadata": {},
   "outputs": [],
   "source": [
    "plot(rEclatFiltered, method = \"matrix\", measure=\"lift\")\n"
   ]
  },
  {
   "cell_type": "markdown",
   "metadata": {},
   "source": [
    "- Matriz de asociaciones por grupos, incluyendo parámetros:"
   ]
  },
  {
   "cell_type": "code",
   "execution_count": null,
   "metadata": {},
   "outputs": [],
   "source": [
    "plot(rAprioriFiltered, method=\"grouped\", measure=\"lift\")\n",
    "plot(rEclatFiltered, method=\"grouped\", measure=\"support\")\n"
   ]
  },
  {
   "cell_type": "markdown",
   "metadata": {},
   "source": [
    "### Enlaces de las reglas:"
   ]
  },
  {
   "cell_type": "code",
   "execution_count": null,
   "metadata": {},
   "outputs": [],
   "source": [
    "plot(rAprioriFiltered, method=\"paracoord\")\n",
    "plot(rEclatFiltered, method=\"paracoord\")"
   ]
  },
  {
   "cell_type": "markdown",
   "metadata": {},
   "source": [
    "- Estadística de una regla en particular:"
   ]
  },
  {
   "cell_type": "code",
   "execution_count": null,
   "metadata": {
    "scrolled": true
   },
   "outputs": [],
   "source": [
    "oneRule <- sample(rAprioriFiltered, 1)\n",
    "inspect(oneRule)\n",
    "plot(oneRule, method=\"doubledecker\", data = transactions)"
   ]
  },
  {
   "cell_type": "code",
   "execution_count": null,
   "metadata": {},
   "outputs": [],
   "source": [
    "oneRule <- sample(rEclatFiltered, 1)\n",
    "inspect(oneRule)\n",
    "plot(oneRule, method=\"doubledecker\", data = transactions)"
   ]
  },
  {
   "cell_type": "markdown",
   "metadata": {},
   "source": [
    "### Visualización basada en grafos:\n",
    "Esta visualización resulta útil en modo interactivo, a través de la opción `engine = \"htmlwidgets\"` si esta se encuentra disponible en el entorno de trabajo"
   ]
  },
  {
   "cell_type": "code",
   "execution_count": null,
   "metadata": {},
   "outputs": [],
   "source": [
    "plot(rEclatFiltered, method = \"graph\")"
   ]
  },
  {
   "cell_type": "markdown",
   "metadata": {},
   "source": [
    "## Base de datos Groceries\n",
    "\n",
    "En la presente tarea trabajaremos con la base de datos `Groceries`, disponibles públicamente para su uso desde R. Para una breve descripción de esta base de datos puede recurrir a la ayuda de R."
   ]
  },
  {
   "cell_type": "code",
   "execution_count": null,
   "metadata": {
    "scrolled": true
   },
   "outputs": [],
   "source": [
    "# Help command in R: ?\n",
    "? Groceries\n",
    "# Loading the dataset\n",
    "data(Groceries)\n",
    "Groceries@itemInfo$labels"
   ]
  },
  {
   "cell_type": "markdown",
   "metadata": {},
   "source": [
    "¿Cuantas transacciones y clases contiene el dataset?"
   ]
  },
  {
   "cell_type": "code",
   "execution_count": null,
   "metadata": {},
   "outputs": [],
   "source": [
    "# Incluye el código para responder a la cuestion anterior. ? str"
   ]
  },
  {
   "cell_type": "markdown",
   "metadata": {},
   "source": [
    "Notar que, para inspeccionar el objeto, hemos usado en un caso el símbolo arroba (`@`) y en otro el dolar (`$`). Esto se debe a que en el primer caso es un objeto tipo S3 ó S4, mientras que en el segundo caso es una colección de datos o `data.frame`.\n",
    "\n",
    "# Aprendiendo de los datos: Algoritmo A Priori"
   ]
  },
  {
   "cell_type": "code",
   "execution_count": null,
   "metadata": {},
   "outputs": [],
   "source": [
    "? apriori"
   ]
  },
  {
   "cell_type": "markdown",
   "metadata": {},
   "source": [
    "Las reglas de asociación son implicaciones de la forma `X=>Y`, las cuales se fundamentan en dos conceptos básicos: la confianza y la relevancia. El primero es la proporción de registros con `X` que contienen también `Y`, mientras que el segundo es el número de registros que contienen tanto X como Y. Dada una relevancia mínima `Rmin`, el algoritmo a priori consta de 6 pasos:\n",
    "\n",
    " * Definimos `i=1`, que se corresponde con el tamaño de los conjuntos.\n",
    " * Generamos un conjunto unitario para cada atributo en `A1`.\n",
    " * Comprobamos la relevancia de todos los conjuntos de `Ai`, eliminando aquellos cuya relevancia es menor que el umbral (`relevancia < Rmin`).\n",
    " * Combinamos los conjuntos de `Ai` creando conjuntos de tamaño `i+1` en `Ai+1`\n",
    " * Si `Ai` no es vacío entonces hacemos `i=i+1` y volvemos al paso 3.\n",
    " * Si `Ai` es vacío entonces el conjunto de reglas de asociación será la unión de todos los `Ai` construidos (`A2 U A3 U ... U Ai`).\n",
    " \n",
    "El algoritmo anterior está implementado en la librería `arulesViz` por lo que, a través de la ayuda, podemos ver como usarlo y hacer un ejemplo:"
   ]
  },
  {
   "cell_type": "code",
   "execution_count": null,
   "metadata": {
    "scrolled": true
   },
   "outputs": [],
   "source": [
    "data(Groceries)\n",
    "rules <- apriori(Groceries, parameter=list(support = 0.001, confidence = 0.5))"
   ]
  },
  {
   "cell_type": "markdown",
   "metadata": {},
   "source": [
    "Podemos inspeccionar el objeto y ver algunas de las reglas. Por ejemplo, el siguiente comando nos mostrará las primeras 4 reglas en función de su confianza:"
   ]
  },
  {
   "cell_type": "code",
   "execution_count": null,
   "metadata": {},
   "outputs": [],
   "source": [
    "inspect(head(sort(rules, by = \"confidence\"),4))"
   ]
  },
  {
   "cell_type": "markdown",
   "metadata": {},
   "source": [
    "Para ver cómo funcionan los comandos anteriores puedes usar la ayuda de R:\n",
    "`? sort`\n",
    "`? inspect`\n",
    "`? head`"
   ]
  },
  {
   "cell_type": "markdown",
   "metadata": {},
   "source": [
    "## Herramientas de visualización\n",
    "\n",
    "En los puntos anteriores hemos establecido las reglas de asociación y manejado la estructura obtenida. Sin embargo, la librería `aruleViz` incluye herramientas de visualización a través de la sobrecarga de la función `plot` (`? plot`)."
   ]
  },
  {
   "cell_type": "code",
   "execution_count": null,
   "metadata": {
    "scrolled": true
   },
   "outputs": [],
   "source": [
    "plot(rules, method = NULL, measure = \"support\", shading = \"lift\", interactive = FALSE, data = NULL, control = NULL)"
   ]
  },
  {
   "cell_type": "markdown",
   "metadata": {},
   "source": [
    "## Práctica:\n",
    "\n",
    "Responde a las siguientes cuestiones, incluyendo cuando corresponda el código asociado:"
   ]
  },
  {
   "cell_type": "markdown",
   "metadata": {},
   "source": [
    " * ¿Cuantas reglas de asociación se han generado? "
   ]
  },
  {
   "cell_type": "code",
   "execution_count": null,
   "metadata": {},
   "outputs": [],
   "source": [
    "# Incluye el código para responder a la cuestion anterior."
   ]
  },
  {
   "cell_type": "markdown",
   "metadata": {},
   "source": [
    " * ¿Qué porcentaje de reglas es redundante? "
   ]
  },
  {
   "cell_type": "code",
   "execution_count": null,
   "metadata": {},
   "outputs": [],
   "source": [
    "# Incluye el código para responder a la cuestion anterior."
   ]
  },
  {
   "cell_type": "markdown",
   "metadata": {},
   "source": [
    " * Teniendo en cuenta el conjunto de datos de partida, ¿resulta útil el conjunto de reglas generado?"
   ]
  },
  {
   "cell_type": "code",
   "execution_count": null,
   "metadata": {},
   "outputs": [],
   "source": [
    "# Incluye el código para responder a la cuestion anterior."
   ]
  },
  {
   "cell_type": "markdown",
   "metadata": {},
   "source": [
    " * ¿Cual es la regla con mayor confianza? ¿Y con menor?"
   ]
  },
  {
   "cell_type": "code",
   "execution_count": null,
   "metadata": {},
   "outputs": [],
   "source": [
    "# Incluye el código para responder a la cuestion anterior."
   ]
  },
  {
   "cell_type": "markdown",
   "metadata": {},
   "source": [
    " * ¿Cual es la regla con mayor interés? ¿Y con menor?"
   ]
  },
  {
   "cell_type": "code",
   "execution_count": null,
   "metadata": {},
   "outputs": [],
   "source": [
    "# Incluye el código para responder a la cuestion anterior."
   ]
  },
  {
   "cell_type": "markdown",
   "metadata": {},
   "source": [
    " * En el objeto aparece una medida llamada `lift`, ¿qué mide?"
   ]
  },
  {
   "cell_type": "code",
   "execution_count": null,
   "metadata": {},
   "outputs": [],
   "source": [
    "# Incluye el código para responder a la cuestion anterior."
   ]
  },
  {
   "cell_type": "markdown",
   "metadata": {},
   "source": [
    " * Escribe el `podium` asociado a cada una de las tres medidas: `support`, `confidence` y `lift`."
   ]
  },
  {
   "cell_type": "code",
   "execution_count": null,
   "metadata": {},
   "outputs": [],
   "source": [
    "# Incluye el código para responder a la cuestion anterior."
   ]
  },
  {
   "cell_type": "markdown",
   "metadata": {},
   "source": [
    " * ¿Se puede inferir que la regla es persistente respecto a la medida de interés?"
   ]
  },
  {
   "cell_type": "code",
   "execution_count": null,
   "metadata": {},
   "outputs": [],
   "source": [
    "# Incluye el código para responder a la cuestion anterior."
   ]
  },
  {
   "cell_type": "markdown",
   "metadata": {},
   "source": [
    " * Explorar los ejemplos de la función plot. "
   ]
  },
  {
   "cell_type": "code",
   "execution_count": null,
   "metadata": {},
   "outputs": [],
   "source": [
    "# Incluye el código para responder a la cuestion anterior."
   ]
  },
  {
   "cell_type": "markdown",
   "metadata": {},
   "source": [
    " * ¿Hay alguna agrupación de items que se de con gran frecuencia? Por ejemplo, ¿los productos de limpieza se compran de forma conjunta? ¿Los productos de cuidado personal?, etc..."
   ]
  },
  {
   "cell_type": "code",
   "execution_count": null,
   "metadata": {},
   "outputs": [],
   "source": [
    "# Incluye el código para responder a la cuestion anterior."
   ]
  },
  {
   "cell_type": "markdown",
   "metadata": {},
   "source": [
    " * Responder a las preguntas anteriores con los diferentes algoritmos disponibles, comparar los resultados y concluir si los resultados son o no robustos respecto al algoritmo."
   ]
  },
  {
   "cell_type": "code",
   "execution_count": null,
   "metadata": {},
   "outputs": [],
   "source": [
    "# Incluye el código para responder a la cuestion anterior."
   ]
  },
  {
   "cell_type": "markdown",
   "metadata": {},
   "source": [
    "## Referencias\n",
    "\n",
    "* Agrawal R, Imielinski T, Swami A (1993). Mining Association Rules between Sets of Items in Large Databases. In Proceedings of the 1993 ACM SIGMOD International Conference on Management of Data, pp. 207–216. ACM Press. URL http://doi.acm.org/10.1145/170035.170072.\n",
    "* Hahsler M (2017). “arulesViz: Interactive Visualization of Association Rules with R.” _R Journal_, *9*(2),163-175. ISSN 2073-4859, <URL:https://journal.r-project.org/archive/2017/RJ-2017-047/RJ-2017-047.pdf>."
   ]
  },
  {
   "cell_type": "markdown",
   "metadata": {},
   "source": [
    "## Session Info:"
   ]
  },
  {
   "cell_type": "code",
   "execution_count": null,
   "metadata": {
    "scrolled": true
   },
   "outputs": [],
   "source": [
    "print(sessionInfo())"
   ]
  },
  {
   "cell_type": "code",
   "execution_count": null,
   "metadata": {},
   "outputs": [],
   "source": []
  }
 ],
 "metadata": {
  "celltoolbar": "Edit Metadata",
  "kernelspec": {
   "display_name": "R",
   "language": "R",
   "name": "ir"
  },
  "language_info": {
   "codemirror_mode": "r",
   "file_extension": ".r",
   "mimetype": "text/x-r-source",
   "name": "R",
   "pygments_lexer": "r",
   "version": "3.6.3"
  },
  "latex_envs": {
   "LaTeX_envs_menu_present": true,
   "autoclose": false,
   "autocomplete": true,
   "bibliofile": "biblio.bib",
   "cite_by": "apalike",
   "current_citInitial": 1,
   "eqLabelWithNumbers": true,
   "eqNumInitial": 1,
   "hotkeys": {
    "equation": "Ctrl-E",
    "itemize": "Ctrl-I"
   },
   "labels_anchors": false,
   "latex_user_defs": false,
   "report_style_numbering": false,
   "user_envs_cfg": false
  },
  "toc": {
   "base_numbering": 1,
   "nav_menu": {},
   "number_sections": true,
   "sideBar": true,
   "skip_h1_title": false,
   "title_cell": "Table of Contents",
   "title_sidebar": "Contents",
   "toc_cell": false,
   "toc_position": {
    "height": "calc(100% - 180px)",
    "left": "10px",
    "top": "150px",
    "width": "384px"
   },
   "toc_section_display": true,
   "toc_window_display": true
  },
  "varInspector": {
   "cols": {
    "lenName": 16,
    "lenType": 16,
    "lenVar": 40
   },
   "kernels_config": {
    "python": {
     "delete_cmd_postfix": "",
     "delete_cmd_prefix": "del ",
     "library": "var_list.py",
     "varRefreshCmd": "print(var_dic_list())"
    },
    "r": {
     "delete_cmd_postfix": ") ",
     "delete_cmd_prefix": "rm(",
     "library": "var_list.r",
     "varRefreshCmd": "cat(var_dic_list()) "
    }
   },
   "types_to_exclude": [
    "module",
    "function",
    "builtin_function_or_method",
    "instance",
    "_Feature"
   ],
   "window_display": false
  }
 },
 "nbformat": 4,
 "nbformat_minor": 4
}
