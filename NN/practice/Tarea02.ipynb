{
 "cells": [
  {
   "cell_type": "markdown",
   "metadata": {},
   "source": [
    "## Tarea 2 - Machine Learning I\n",
    "El objetivo es diseñar una red neuronal que sea capaz de predecir el valor de la precipitación mediante la información de variables de larga escala. El dataset consiste en 450 predictores y un predictando, la precipitación en Madrid.\n",
    "Hay que tener en cuenta que la precipitación es una variable mixta, ya que habrá días con un valor exacto de 0 y otros que se encuentren en el intervalo (0,inf).\n",
    "Así pues, diseñar una red neuronal con KERAS, que sea capaz de predecir la precipitación de acuerdo con los siguientes índices:\n",
    "- La ocurrencia de precipitación se evalúa con el AUC. \n",
    "- La cantidad de precipitación se evalúa con el MSE.\n",
    "\n",
    "Podréis valeros de todas las técnicas aprendidas hasta ahora: early stopping, regularización, backpropagation + momento, ajustar el learning rate, poner varias capas y demás. Esto no quiere decir que la red que contenga toda esta variedad de técnicas será la que obtenga un menor error. Tenéis que jugar y probar distintos diseños de redes con el fin de encontrar la que consideréis que obtendría un menor error en un dataset distinto (es decir, que tenga buena capacidad de generalización).\n",
    "\n",
    "Construiréis vuestro modelo usando xTrain e yTrain, y después evaluaréis el modelo en xTest. La predicción que resulte al evaluar el modelo en xTest es lo que tenéis que guardar en un fichero y lo que se envía para corrección:\n",
    "save(yTest_ocu, yTest_cantidad,  file = “1erApellido_Nombre.rda”)\n",
    "e.g., save(yTest_ocu, yTest_cantidad, file = “Baño_Jorge.rda”)\n",
    "\n",
    "\n",
    "**NOTA: se considera día de lluvia si el valor de precipitación es mayor que 1, sino convertir a 0.**"
   ]
  },
  {
   "cell_type": "markdown",
   "metadata": {},
   "source": [
    "Además deberéis de responder a las siguiente cuestiones:"
   ]
  },
  {
   "cell_type": "markdown",
   "metadata": {},
   "source": [
    "1- ¿Cómo has preprocesado los datos y por qué (por ejemplo, has estandarizado el predictando o los predictores)? **Descríbe** el proceso en 3-4 líneas."
   ]
  },
  {
   "cell_type": "code",
   "execution_count": null,
   "metadata": {},
   "outputs": [],
   "source": [
    "### Describe en 3-4 líneas ----------------------"
   ]
  },
  {
   "cell_type": "markdown",
   "metadata": {},
   "source": [
    "2- ¿Qué topología de red neuronal has encontrado óptima para la **ocurrencia de precipitación**? **Describe** en 3-4 líneas por qué has usado esta topología e incluye el **código de Keras** (mirar ejemplo)"
   ]
  },
  {
   "cell_type": "code",
   "execution_count": null,
   "metadata": {},
   "outputs": [],
   "source": [
    "### Describe en 3-4 líneas ----------------------"
   ]
  },
  {
   "cell_type": "code",
   "execution_count": null,
   "metadata": {},
   "outputs": [],
   "source": [
    "### Ejemplo de Código de Keras del Modelo Neuronal ----------------------\n",
    "# inputs = layer_input(shape = 450)\n",
    "# l1 = layer_dense(inputs, units = 100, activation = \"sigmoid\")\n",
    "# l2 = layer_dense(l1, units = 100, activation = \"sigmoid\")\n",
    "# outputs = layer_dense(l2, units = 10, activation = \"sigmoid\")\n",
    "# model <- keras_model(inputs = inputs, outputs = outputs)\n",
    "\n",
    "# model %>% compile(optimizer = optimizer_sgd(lr = 0.1), loss = \"mse\")\n",
    "# model %>% fit(xTrain, yTrain, epochs = 100, batch_size = 100, verbose = 1)  "
   ]
  },
  {
   "cell_type": "markdown",
   "metadata": {},
   "source": [
    "2- ¿Qué topología de red neuronal has encontrado óptima para la **cantidad de precipitación**? **Describe** en 3-4 líneas por qué has usado esta topología e incluye el **código de Keras** (mirar ejemplo)"
   ]
  },
  {
   "cell_type": "code",
   "execution_count": null,
   "metadata": {},
   "outputs": [],
   "source": [
    "### Describe en 3-4 líneas ----------------------"
   ]
  },
  {
   "cell_type": "code",
   "execution_count": null,
   "metadata": {},
   "outputs": [],
   "source": [
    "### Ejemplo de Código de Keras del Modelo Neuronal ----------------------\n",
    "# inputs = layer_input(shape = 450)\n",
    "# l1 = layer_dense(inputs, units = 100, activation = \"sigmoid\")\n",
    "# l2 = layer_dense(l1, units = 100, activation = \"sigmoid\")\n",
    "# outputs = layer_dense(l2, units = 10, activation = \"sigmoid\")\n",
    "# model <- keras_model(inputs = inputs, outputs = outputs)\n",
    "\n",
    "# model %>% compile(optimizer = optimizer_sgd(lr = 0.1), loss = \"mse\")\n",
    "# model %>% fit(xTrain, yTrain, epochs = 100, batch_size = 100, verbose = 1)  "
   ]
  }
 ],
 "metadata": {
  "kernelspec": {
   "display_name": "R",
   "language": "R",
   "name": "ir"
  },
  "language_info": {
   "codemirror_mode": "r",
   "file_extension": ".r",
   "mimetype": "text/x-r-source",
   "name": "R",
   "pygments_lexer": "r",
   "version": "3.6.1"
  }
 },
 "nbformat": 4,
 "nbformat_minor": 4
}
