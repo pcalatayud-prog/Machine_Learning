{
 "cells": [
  {
   "cell_type": "markdown",
   "metadata": {},
   "source": [
    "# Aprendizaje, generalización y sobreajuste\n",
    "## Validación cruzada (cross-validation)\n",
    "#### Rodrigo Manzanas (rodrigo.manzanas@unican.es)\n",
    "##### 18-Noviembre-2021"
   ]
  },
  {
   "cell_type": "markdown",
   "metadata": {},
   "source": [
    "# 1 Introducción"
   ]
  },
  {
   "cell_type": "markdown",
   "metadata": {},
   "source": [
    "Recordemos que una de las características básicas que ha de cumplir cualquier modelo estadístico que se entrene en un marco de aprendizaje supervisado es que tenga una buena **capacidad de generalización**, es decir, que arroje resultados razonablemente buenos cuando se aplique sobre datos que no han sido \"vistos\" durante la fase de entrenamiento (nuevos datos de test). En caso contario, diremos que el modelo está **sobreajustado** a la muestra de entrenamiento. \n",
    "\n",
    "En general, la introducción de grados de libertad/paramétros innecesarios acabará dando lugar a un modelo sobreajustado, por lo que suele ser conveniente partir de modelos simples e ir aumentando su complejidad si fuera necesario."
   ]
  },
  {
   "cell_type": "markdown",
   "metadata": {},
   "source": [
    "En esta práctica utilizaremos:\n",
    "\n",
    "* Modelo de aprendizaje: Regresion lineal\n",
    "* Dataset: *Auto* (paquete ISLR)\n",
    "* Métrica de validación: Error cuadrático medio (RMSE)\n",
    "* Paquetes de R: *ISRL*, *caret*"
   ]
  },
  {
   "cell_type": "code",
   "execution_count": 1,
   "metadata": {},
   "outputs": [
    {
     "name": "stderr",
     "output_type": "stream",
     "text": [
      "Loading required package: lattice\n",
      "Loading required package: ggplot2\n"
     ]
    }
   ],
   "source": [
    "# cargo librerías \n",
    "library(ISLR)\n",
    "library(caret)"
   ]
  },
  {
   "cell_type": "markdown",
   "metadata": {},
   "source": [
    "# 2 Carga y transformación de datos"
   ]
  },
  {
   "cell_type": "markdown",
   "metadata": {},
   "source": [
    "El dataset *Auto* (paquete `ISLR`) contiene información sobre las características de 392 vehículos. Cárgalo en tu sesión de `R` y échale un vistazo preliminar para familiarizarte con él."
   ]
  },
  {
   "cell_type": "code",
   "execution_count": 2,
   "metadata": {},
   "outputs": [],
   "source": [
    "data(Auto)\n"
   ]
  },
  {
   "cell_type": "markdown",
   "metadata": {},
   "source": [
    "Para esta práctica sólo nos interesa la relación entre el peso (weight) y la potencia (horsepower). En concreto, nuestro objetivo será crear modelos de regresión que nos permitan predecir el peso en función de la potencia. \n",
    "\n",
    "Para trabajar más cómodamente, comienza por convertir las libras a kg (1libra = 0.453592kg). A continuación, haz un scatter plot de una variable frente a otra (puedes utilizar, por ejemplo, la función `pairs`). ¿Se puede extraer alguna conclusión a primera vista?"
   ]
  },
  {
   "cell_type": "code",
   "execution_count": 3,
   "metadata": {},
   "outputs": [],
   "source": [
    "# conversión de libras a kg\n",
    "\n",
    "# scatter-plot"
   ]
  },
  {
   "cell_type": "markdown",
   "metadata": {},
   "source": [
    "Comprueba, gráficamente, si una vez escogidas estas dos variables, podemos obtener alguna información útil extra a partir de la procedencia de los coches (origin). De nuevo, puedes utilizar la función `pairs`"
   ]
  },
  {
   "cell_type": "code",
   "execution_count": 4,
   "metadata": {},
   "outputs": [],
   "source": [
    "# doy un color distinto a cada origen\n"
   ]
  },
  {
   "cell_type": "markdown",
   "metadata": {},
   "source": [
    "Para trabajar más cómodamente será conveniente renombrar los niveles de la variable origin. Utiliza, por ejemplo, las etiquetas \"European\", \"American\" y \"Japanese\". Puedes apoyarte para ello en las funciones `factor` y `as.character`."
   ]
  },
  {
   "cell_type": "code",
   "execution_count": 5,
   "metadata": {},
   "outputs": [],
   "source": [
    "# renombro los niveles de la variable origin \n"
   ]
  },
  {
   "cell_type": "markdown",
   "metadata": {},
   "source": [
    "En la parte final de la práctica trabajaremos por separado con los coches europeos, americanos y japoneses. Crea por tanto un subconjunto de datos independiente para cada origen."
   ]
  },
  {
   "cell_type": "code",
   "execution_count": 6,
   "metadata": {},
   "outputs": [],
   "source": [
    "# coches europeos\n",
    "\n",
    "# coches americanos\n",
    "\n",
    "# coches japoneses\n"
   ]
  },
  {
   "cell_type": "markdown",
   "metadata": {},
   "source": [
    "Dibuja, en una misma figura, un scatter plot \"peso frente a potencia\" para los coches europeos."
   ]
  },
  {
   "cell_type": "code",
   "execution_count": 7,
   "metadata": {},
   "outputs": [],
   "source": [
    "# scatter plot coches europeos\n"
   ]
  },
  {
   "cell_type": "markdown",
   "metadata": {},
   "source": [
    "# 3 Definición de la métrica de validación"
   ]
  },
  {
   "cell_type": "markdown",
   "metadata": {},
   "source": [
    "A continuación definimos la métrica de validación que vamos a emplear para determinar el error de nuestros modelos de regresión, el error cuadrático medio (*root mean square error*, RMSE)."
   ]
  },
  {
   "cell_type": "code",
   "execution_count": 8,
   "metadata": {},
   "outputs": [],
   "source": [
    "# métrica de validación: RMSE\n"
   ]
  },
  {
   "cell_type": "markdown",
   "metadata": {},
   "source": [
    "# 4 Construcción del modelo y evaluación\n",
    "\n",
    "## 4.1 Construcción del modelo sin cross-validación"
   ]
  },
  {
   "cell_type": "markdown",
   "metadata": {},
   "source": [
    "Como hemos dicho, trabajaremos en esta práctica con un modelo lineal (una simple regresión). Utiliza la función `lm` (paquete `stats`) para encontrar los coeficientes de una regresión lineal del tipo $peso = peso(potencia)$ en el dataset de coches europeos. A continuación, dibuja en la misma figura la nube de puntos del dataset y la recta de ajuste que acabas de obtener. Utiliza para ello la función `abline`."
   ]
  },
  {
   "cell_type": "code",
   "execution_count": 9,
   "metadata": {},
   "outputs": [],
   "source": [
    "# regresión lineal\n"
   ]
  },
  {
   "cell_type": "markdown",
   "metadata": {},
   "source": [
    "A continuación, compara los valores estimados según esta regresión (\"fitted values\") con los valores reales. Para ello, dibuja en una misma figura, y en orden secuencial, ambos conjuntos de valores y calcula el RMSE."
   ]
  },
  {
   "cell_type": "code",
   "execution_count": 10,
   "metadata": {},
   "outputs": [],
   "source": [
    "# valores predichos por el modelo lineal\n",
    "\n",
    "# RMSE"
   ]
  },
  {
   "cell_type": "markdown",
   "metadata": {},
   "source": [
    "**Nota**: Fíjate que los valores contenidos en la variable `ypred` son exactamente los mismos que habríamos obtenido utilizando la función `predict` para predecir a partir del modelo entrenado (`reg`)."
   ]
  },
  {
   "cell_type": "code",
   "execution_count": null,
   "metadata": {},
   "outputs": [],
   "source": []
  },
  {
   "cell_type": "markdown",
   "metadata": {},
   "source": [
    "En este primer ejemplo hemos utilizado como conjunto de validación el mismo sobre el que habíamos entrenado el modelo. Por tanto, no podemos estimar su capacidad de generalización.\n",
    "\n",
    "Si la validación se realiza sobre un subconjunto independiente de la muestra utilizada para el entrenamiento (es decir, en modo cross-validación), el error cometido será mayor. Sin embargo, esta metodología nos permitirá estimar la capacidad de generalización del método. A continuación, vamos a ilustrar esto con distintos ejemplos."
   ]
  },
  {
   "cell_type": "markdown",
   "metadata": {},
   "source": [
    "## 4.2 Construcción del modelo usando cross-validación *hold-out* "
   ]
  },
  {
   "cell_type": "markdown",
   "metadata": {},
   "source": [
    "El método de cross-validación más básico es el *hold-out*, en el que la muestra total se divide en dos subconjuntos independientes, uno para training y otro para validación. \n",
    "\n",
    "---\n",
    "\n",
    "**Ejercicio**\n",
    "\n",
    "Para este primer ejemplo vamos a dividir los coches europeos en dos subconjuntos de igual tamaño, con la particularidad de que el primero (segundo) de esos subconjuntos contendrá la mitad de coches con potencias menores (mayores). Utiliza los coches de menor potencia para entrenar una regresión lineal y utiliza el modelo que obtengas para predecir el peso de los coches con 1) potencias menores (propio conjunto de training) y 2) potencias mayores. Calcula el RMSE en ambos casos. ¿Qué conclusión obtienes? "
   ]
  },
  {
   "cell_type": "code",
   "execution_count": 11,
   "metadata": {},
   "outputs": [
    {
     "ename": "ERROR",
     "evalue": "Error in nrow(europe): objeto 'europe' no encontrado\n",
     "output_type": "error",
     "traceback": [
      "Error in nrow(europe): objeto 'europe' no encontrado\nTraceback:\n",
      "1. nrow(europe)"
     ]
    }
   ],
   "source": [
    "n <- nrow(europe)  # número de datos en el dataset de coches europeos\n",
    "# mitad de coches menos potentes: training\n",
    "\n",
    "# mitad de coches más potentes: validation \n"
   ]
  },
  {
   "cell_type": "code",
   "execution_count": null,
   "metadata": {},
   "outputs": [],
   "source": [
    "# plots\n"
   ]
  },
  {
   "cell_type": "code",
   "execution_count": null,
   "metadata": {},
   "outputs": [],
   "source": [
    "# construyo el modelo de regresión lineal (entreno con los coches menos potentes)\n",
    "\n",
    "# predicción sobre el propio conjunto de train\n",
    "\n",
    "# predicción sobre el conjunto reservado para validación \n"
   ]
  },
  {
   "cell_type": "markdown",
   "metadata": {},
   "source": [
    "### 4.2.1 Muestreo aleatorio para obtener las muestras de train y de validación"
   ]
  },
  {
   "cell_type": "markdown",
   "metadata": {},
   "source": [
    "Lógicamente, los resultados sobre el conjunto de validación en el ejercicio anterior son malos porque la muestra que hemos utilizado para el entrenamiento no es representativa de la población (y en particular, de la muestra de validación). Para tratar de minimizar este tipo de problema, una solución es aleatorizar la selección train/validación. \n",
    "\n",
    "---\n",
    "\n",
    "**Ejercicio**\n",
    "\n",
    "Vuelve a realizar el mismo ejercicio pero escogiendo aleatoriamente la mitad del dataset para training y la otra mitad para validación (utiliza la función `sample` para ello). ¿Cómo han cambiado los resultados? En este caso, ¿dirías que el modelo que has construido está sobreajustado?"
   ]
  },
  {
   "cell_type": "code",
   "execution_count": null,
   "metadata": {},
   "outputs": [],
   "source": [
    "set.seed(10)  # fijo semilla (para asegurar la reproducibilidad)\n",
    "# índices aleatorios para training (mitad del dataset)\n",
    "\n",
    "# training\n",
    "\n",
    "# validation\n"
   ]
  },
  {
   "cell_type": "code",
   "execution_count": null,
   "metadata": {},
   "outputs": [],
   "source": [
    "# plots\n"
   ]
  },
  {
   "cell_type": "code",
   "execution_count": null,
   "metadata": {},
   "outputs": [],
   "source": [
    "# construyo el modelo de regresión lineal  \n",
    "\n",
    "# predicciones sobre el conjunto de training\n",
    "\n",
    "# predicciones sobre el conjunto de validación\n"
   ]
  },
  {
   "cell_type": "markdown",
   "metadata": {},
   "source": [
    "Aún así, la metodología *hold-out* tiene dos limitaciones importantes. Por un lado, como acabamos de comprobar, la estimación del error en el conjunto de validación puede variar mucho en función de la partición considerada.\n",
    "\n",
    "---\n",
    "\n",
    "**Ejercicio**\n",
    "\n",
    "Repite el ejercicio anterior (cross-validation hold-out) para 20 particiones aleatorias train/validation distintas (para ello, programa un bucle). ¿Cómo se distribuyen los errores (RMSE) sobre la muestra de validación?"
   ]
  },
  {
   "cell_type": "code",
   "execution_count": null,
   "metadata": {},
   "outputs": [],
   "source": [
    "# scatter plot \n",
    "\n",
    "rmse.ho = c()  # vector vacío que iré rellenando en el bucle\n",
    "for (i in 1:20) {  # bucle que recorre 20 particiones train/validation distintas\n",
    " \n",
    "}\n",
    "# variabilidad error de validación"
   ]
  },
  {
   "cell_type": "markdown",
   "metadata": {},
   "source": [
    "Por otro lado, en conjuntos de datos pequeños como el de este ejemplo (n/2 < 40), la cross-validación hold-out puede dar lugar a una sobrestimación del error de validación (cualquier método estadístico tiende a proporcionar peores resultados cuando se trabaja con pocos datos).\n",
    "\n",
    "Los métodos de cross-validación *leave-one-out* y *k-fold* surgen para aliviar estos dos problemas. "
   ]
  },
  {
   "cell_type": "markdown",
   "metadata": {},
   "source": [
    "## 4.3 Construcción del modelo usando cross-validación *leave-one-out*"
   ]
  },
  {
   "cell_type": "markdown",
   "metadata": {},
   "source": [
    "Las características del método de cross-validación leave-one-out son las siguientes:\n",
    "\n",
    "* La selección de la muestra de entrenamiento NO se hace aleatoriamente, eliminando la variabilidad del error de validación.\n",
    "\n",
    "* La muestra de entrenamiento es la mayor posible: Si un conjunto de datos tiene `n` registros, el ajuste del modelo se realiza con `n - 1` datos y el único dato restante  se utiliza para validación. La operación se repite `n` veces."
   ]
  },
  {
   "cell_type": "markdown",
   "metadata": {},
   "source": [
    "**Ejercicio**\n",
    "\n",
    "Aplica el método de cross-validación leave-one-out para predecir, usando un modelo lineal que use como único predictor la potencia, el peso de los coches europeos (construye un bucle para ello). ¿Qué error de validación (RMSE) \"global\" (es decir, sobre la muestra completa) obtienes?"
   ]
  },
  {
   "cell_type": "code",
   "execution_count": null,
   "metadata": {},
   "outputs": [],
   "source": [
    "ypred.2 <- c()  # inicializo vector vacío\n",
    "\n",
    "for (i in 1:nrow(europe)) {  # recorro todos los elemento del dataset\n",
    "   # construyo la reg. lineal con n-1 datos\n",
    "   \n",
    "   # doy una predicción para el único dato que no he utilizado en el entrenamiento  \n",
    "  \n",
    "}\n",
    "# RMSE"
   ]
  },
  {
   "cell_type": "markdown",
   "metadata": {},
   "source": [
    "**Ejercicio**\n",
    "\n",
    "Repite el ejercicio anterior pero usando el paquete *caret*."
   ]
  },
  {
   "cell_type": "code",
   "execution_count": null,
   "metadata": {},
   "outputs": [],
   "source": [
    "# http://topepo.github.io/caret/index.html\n",
    "# leave-one-out CV\n",
    "\n",
    "# 'train': función clave de 'caret'\n"
   ]
  },
  {
   "cell_type": "markdown",
   "metadata": {},
   "source": [
    "## 4.4 Construcción del modelo usando cross-validación *k-fold*"
   ]
  },
  {
   "cell_type": "markdown",
   "metadata": {},
   "source": [
    "Si el tamaño muestral es grande, el método leave-one-out se vuelve muy costoso desde el punto de vista computacional. Para evitar este coste surge otro método de validación cruzada, llamado **k-fold**, en el que se hace un leave-one-out por \"bloques\" o \"folds\": \n",
    "\n",
    "* Se divide la muestra en `k` subconjuntos.\n",
    "\n",
    "* Se ajustan `k` modelos, considerando en cada caso un bloque como conjunto de validación y los `k-1` restantes para el entrenamiento. \n",
    "\n",
    "* La estimación del error dependerá de cómo se realice la partición de los datos, es decir, de cómo se seleccionen los folds. Aún así, con un número suficiente de folds, se obtendrían las mismas conclusiones que con leave-one-out. "
   ]
  },
  {
   "cell_type": "markdown",
   "metadata": {},
   "source": [
    "**Ejercicio**\n",
    "\n",
    "1) Parte el dataset de coches europeos en `k=10` subconjuntos, todos ellos con el mismo número de datos, seleccionados aleatoriamente (utiliza las funciones `sample` y `split` para ello)."
   ]
  },
  {
   "cell_type": "code",
   "execution_count": null,
   "metadata": {},
   "outputs": [],
   "source": [
    "k <- 10  # número de folds\n",
    "set.seed(10)  # fijo semilla para asegurar reproducibilidad\n",
    "\n",
    "# creo un vector con los indices que identifican las posiciones que corresponden a cada fold\n",
    "\n",
    "# creo una lista cuyos elementos son cada uno los 10 folds\n"
   ]
  },
  {
   "cell_type": "markdown",
   "metadata": {},
   "source": [
    "2) Utiliza `k-1` folds para entrenar un modelo lineal y predice sobre el fold restante. Para concatenar folds, utiliza la función `do.call` (que permite operar sobre listas como si fueran matrices/vectores) llamando a `rbind`. Repite esta operación `k` veces (utiliza un bucle `lapply`)."
   ]
  },
  {
   "cell_type": "code",
   "execution_count": null,
   "metadata": {},
   "outputs": [],
   "source": [
    "ypred.3 <- lapply(1:k, function(x) {  # bucle lapply que recorre los 10 folds\n",
    "  # construyo reg. lineal con k-1 folds\n",
    " \n",
    "  # predigo sobre el fold restante\n",
    " \n",
    "})"
   ]
  },
  {
   "cell_type": "markdown",
   "metadata": {},
   "source": [
    "3) Dibuja, en un mismo gráfico, los pesos reales y los predichos en modo 10-fold. De nuevo, recurre a la función `do.call` (llamando a `c`) para concatenar las predicciones."
   ]
  },
  {
   "cell_type": "code",
   "execution_count": null,
   "metadata": {},
   "outputs": [],
   "source": [
    "# plot"
   ]
  },
  {
   "cell_type": "markdown",
   "metadata": {},
   "source": [
    "4) Calcula el error \"global\" cometido sobre todo el dataset (tendrás que concatenar las 10 predicciones). ¿Qué conclusión obtienes?"
   ]
  },
  {
   "cell_type": "code",
   "execution_count": null,
   "metadata": {},
   "outputs": [],
   "source": [
    "# error \"global\" cometido sobre todo el dataset\n",
    "            "
   ]
  },
  {
   "cell_type": "markdown",
   "metadata": {},
   "source": [
    "# Tarea 1\n",
    "\n",
    "¿Es el modelo aprendido con los registros europeos adecuado para estimar el peso de los coches americanos? En otras palabras, ¿qué ocurre cuando aplicamos el modelo entrenado con la muestra `europe` para predecir sobre la muestra de test `america`? Utiliza las funciones de visualización que hemos visto (`plot`, `points`, `lines`, `abline`, ...) para ilustrar los resultados."
   ]
  },
  {
   "cell_type": "code",
   "execution_count": null,
   "metadata": {},
   "outputs": [],
   "source": [
    "# construyo reg. lineal con datos de coches europeos\n",
    "\n",
    "# predigo sobre los coches americanos (muestra de test)\n",
    "\n",
    "# error de test"
   ]
  },
  {
   "cell_type": "markdown",
   "metadata": {},
   "source": [
    "Ya vimos para los coches europeos que el error (RMSE) que obteníamos en modo cross-validación era bastante similar al obtenido sin cross-validación, por lo que la capacidad de generalización del modelo es buena para los coches europeos. Sin embargo, este modelo no es adecuado para predecir el peso de los coches americanos, ya que la diferencia entre el error de validación y el de test es muy alta. ¿A qué crees que se debe?"
   ]
  },
  {
   "cell_type": "markdown",
   "metadata": {},
   "source": [
    "# Tarea 2\n",
    "\n",
    "Repite el ejemplo en el que hemos utilizado una cross-validación 10-fold para el dataset de coches europeos, pero con *caret*. Obtén el error (RMSE) de validación global. Tendrás que investigar cómo utilizar la función `trainControl`."
   ]
  },
  {
   "cell_type": "code",
   "execution_count": null,
   "metadata": {},
   "outputs": [],
   "source": []
  },
  {
   "cell_type": "markdown",
   "metadata": {},
   "source": [
    "# Tarea 3\n",
    "\n",
    "Utiliza los datos de los coches americanos para estimar los pesos de los coches europeos por un lado y los de los japoneses por otro (puedes emplear el paquete `caret` si quieres). ¿Son buenos los resultados que obtienes? "
   ]
  },
  {
   "cell_type": "code",
   "execution_count": null,
   "metadata": {},
   "outputs": [],
   "source": [
    "# entreno el modelo sobre los coches americanos, utilizando una 10-fold CV\n",
    "\n",
    "# predigo sobre los coches japoneses\n",
    "\n",
    "\n",
    "# predigo sobre los coches europeos\n"
   ]
  },
  {
   "cell_type": "markdown",
   "metadata": {},
   "source": [
    "En estos dos casos el error de test es mayor que cuando entrenábamos el modelo con los coches europeos y predecíamos sobre los americanos. Esto se debe, por un lado, a que los pesos de los coches europeos y japoneses son más bajos, por lo que es lógico que el RMSE sea también más bajo. Sin embargo, fíjate en que, proporcionalmente, los errores de test cometidos al predecir sobre los coches europeos y japoneses no son mucho peores que cuando predecíamos sobre los americanos. Esto se debe a que los motores de los coches europeos y japoneses, con potencias más bien bajas, estarían bien representados dentro del dataset de coches americanos, cuyo rango de potencias es mucho mayor.\n",
    "\n",
    "Por lo tanto, basándonos en el RMSE, un modelo entrenado con los coches americanos sería válido para predecir el peso de coches europeos y japoneses."
   ]
  },
  {
   "cell_type": "code",
   "execution_count": null,
   "metadata": {},
   "outputs": [],
   "source": [
    "## gráfico\n",
    "par(mfrow = c(1,2))\n",
    "\n",
    "# coches europeos\n",
    "\n",
    "# coches japoneses\n"
   ]
  }
 ],
 "metadata": {
  "kernelspec": {
   "display_name": "R",
   "language": "R",
   "name": "ir"
  },
  "language_info": {
   "codemirror_mode": "r",
   "file_extension": ".r",
   "mimetype": "text/x-r-source",
   "name": "R",
   "pygments_lexer": "r",
   "version": "3.6.3"
  },
  "latex_envs": {
   "LaTeX_envs_menu_present": true,
   "autoclose": false,
   "autocomplete": true,
   "bibliofile": "biblio.bib",
   "cite_by": "apalike",
   "current_citInitial": 1,
   "eqLabelWithNumbers": true,
   "eqNumInitial": 1,
   "hotkeys": {
    "equation": "Ctrl-E",
    "itemize": "Ctrl-I"
   },
   "labels_anchors": false,
   "latex_user_defs": false,
   "report_style_numbering": false,
   "user_envs_cfg": false
  },
  "toc": {
   "base_numbering": 1,
   "nav_menu": {},
   "number_sections": true,
   "sideBar": true,
   "skip_h1_title": false,
   "title_cell": "Table of Contents",
   "title_sidebar": "Contents",
   "toc_cell": false,
   "toc_position": {},
   "toc_section_display": true,
   "toc_window_display": false
  }
 },
 "nbformat": 4,
 "nbformat_minor": 2
}
